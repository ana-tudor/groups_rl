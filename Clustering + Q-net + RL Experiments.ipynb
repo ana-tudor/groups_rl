{
 "cells": [
  {
   "cell_type": "code",
   "execution_count": 1,
   "metadata": {},
   "outputs": [],
   "source": [
    "import pandas as pd\n",
    "pd.set_option('display.max_rows', None)\n",
    "import numpy as np"
   ]
  },
  {
   "cell_type": "markdown",
   "metadata": {},
   "source": [
    "## Data Pipeline\n",
    "\n",
    "- For all csvs, filter on whether they've consented in final survey\n",
    "- Join demographic and matching questions, if needed\n",
    "- One-hot-encode matching questions, fillna=0\n",
    "- One-hot-encode survey responses, **or** relabel with 1-4 construct level score per answer\n",
    "\n",
    "- Compute average score per group\n",
    "    - Compute score per student, equally weighting each survey response\n",
    "    - Collect groups, consolidate all complete groups that we have more than one score for\n",
    "        - Possibly assign scores of 0 if the groups were reassigned? Would give a few longer trajectories to train over\n",
    "        \n",
    "- Create large input matrix, with group information column\n",
    "\n",
    "#### Load data"
   ]
  },
  {
   "cell_type": "code",
   "execution_count": 2,
   "metadata": {},
   "outputs": [
    {
     "data": {
      "text/plain": [
       "(472, 2)"
      ]
     },
     "execution_count": 2,
     "metadata": {},
     "output_type": "execute_result"
    }
   ],
   "source": [
    "path = 'ipynb/16a_fa20_data/'\n",
    "obj_df = pd.read_csv(path + '16a_objective_cols.csv')\n",
    "obj_df = obj_df.set_index(obj_df.columns[0])\n",
    "\n",
    "weights5 = np.array([.25,.25,.25,.25,.25,.25,2,1,.5,0,3,0,1,2,3,2,1,0,1,0,2])\n",
    "\n",
    "obj_df['group_score'] = obj_df.drop(columns= ['email', 'year', \n",
    "                                                    'timezone', 'gender', \n",
    "                                                    'race']\n",
    "                                        ).to_numpy(dtype=float)@weights5\n",
    "# obj_filtered.columns\n",
    "rew_final = obj_df[['email', 'group_score']]\n",
    "rew_final.shape"
   ]
  },
  {
   "cell_type": "code",
   "execution_count": 3,
   "metadata": {},
   "outputs": [
    {
     "data": {
      "text/plain": [
       "(1002, 12)"
      ]
     },
     "execution_count": 3,
     "metadata": {},
     "output_type": "execute_result"
    }
   ],
   "source": [
    "dem_df = pd.read_csv(path + 'demographics_survey_ltd.csv')\n",
    "matching_df = pd.read_csv(path + 'groupmatching_ltd.csv')\n",
    "matching_df.shape"
   ]
  },
  {
   "cell_type": "code",
   "execution_count": 4,
   "metadata": {},
   "outputs": [
    {
     "name": "stdout",
     "output_type": "stream",
     "text": [
      "(477, 12)\n",
      "(472, 10)\n"
     ]
    },
    {
     "data": {
      "text/plain": [
       "(477, 21)"
      ]
     },
     "execution_count": 4,
     "metadata": {},
     "output_type": "execute_result"
    }
   ],
   "source": [
    "matching_df_temp = matching_df[matching_df[ 'Email Address'].isin(rew_final['email'])]\n",
    "print(matching_df_temp.shape)\n",
    "dem_df_final = dem_df[dem_df[ 'Email Address'].isin(rew_final['email'])]\n",
    "print(dem_df_final.shape)\n",
    "\n",
    "matching_df_final = matching_df_temp.merge(dem_df_final, how='inner', on='Email Address')\n",
    "matching_df_final.shape"
   ]
  },
  {
   "cell_type": "code",
   "execution_count": 5,
   "metadata": {},
   "outputs": [
    {
     "data": {
      "text/plain": [
       "(1002, 21)"
      ]
     },
     "execution_count": 5,
     "metadata": {},
     "output_type": "execute_result"
    }
   ],
   "source": [
    "matching_df_large = matching_df.merge(dem_df, how='inner', on='Email Address')\n",
    "matching_df_large.shape"
   ]
  },
  {
   "cell_type": "code",
   "execution_count": 6,
   "metadata": {},
   "outputs": [
    {
     "data": {
      "text/plain": [
       "Index(['Timestamp_x', 'Email Address', 'First name', 'Last name', 'SID',\n",
       "       'What is the UTC timezone offset closest to you? ',\n",
       "       'What courses have you completed  (or passed out of) before this?',\n",
       "       'How much time are you hoping to put into 16A?',\n",
       "       'What other classes are you currently taking?',\n",
       "       'How important is it to you that you are assigned to a group with one or more people that self-identify in terms of gender the same way as you? We will do our best to match you according to these preferences but may not always be able to.',\n",
       "       'How important is it to you that your team is diverse and brings a variety of backgrounds to the group? We will do our best to match you according to these preferences but may not always be able to. ',\n",
       "       'What times of the day do you prefer meeting for your study group?',\n",
       "       'Timestamp_y', 'Name', 'Email', 'What year are you?',\n",
       "       'What timezone are you located in?',\n",
       "       'People come to Berkeley from many different types of institutions and levels of preparation. Check the boxes that apply to help us understand your background. Note we do not expect exposure to linear algebra or programming --- taking 61A in parallel is enough to keep up with the programming component in 16A.',\n",
       "       'How do you self-identify? (Check all that apply)',\n",
       "       'Which of these options best describes your race? (Check all that apply)',\n",
       "       'Do you self-identify as belonging to a historically underrepresented group in STEM?'],\n",
       "      dtype='object')"
      ]
     },
     "execution_count": 6,
     "metadata": {},
     "output_type": "execute_result"
    }
   ],
   "source": [
    "matching_df_final.columns"
   ]
  },
  {
   "cell_type": "code",
   "execution_count": 7,
   "metadata": {},
   "outputs": [
    {
     "data": {
      "text/plain": [
       "Index(['group_num', 'email', 'sid', 'first', 'last', 'incoming_partners',\n",
       "       'outgoing_partners'],\n",
       "      dtype='object')"
      ]
     },
     "execution_count": 7,
     "metadata": {},
     "output_type": "execute_result"
    }
   ],
   "source": [
    "groups0 = pd.read_csv(path + 'results_0.csv')\n",
    "groups0.columns\n",
    "# groups0.shape"
   ]
  },
  {
   "cell_type": "code",
   "execution_count": 8,
   "metadata": {},
   "outputs": [
    {
     "data": {
      "text/plain": [
       "(182, 8)"
      ]
     },
     "execution_count": 8,
     "metadata": {},
     "output_type": "execute_result"
    }
   ],
   "source": [
    "groups1 = pd.read_csv(path + 'results_1.csv')\n",
    "groups1.columns\n",
    "groups1.shape"
   ]
  },
  {
   "cell_type": "code",
   "execution_count": 9,
   "metadata": {},
   "outputs": [
    {
     "data": {
      "text/plain": [
       "(42, 8)"
      ]
     },
     "execution_count": 9,
     "metadata": {},
     "output_type": "execute_result"
    }
   ],
   "source": [
    "groups2 = pd.read_csv(path + 'results_2.csv')\n",
    "groups2.shape"
   ]
  },
  {
   "cell_type": "markdown",
   "metadata": {},
   "source": [
    "### Finish Data Cleaning\n",
    "\n",
    "matching_df_final: matching questions\n",
    "\n",
    "rew_final: reward assigned per student\n",
    "\n",
    "groups0, groups1, groups2"
   ]
  },
  {
   "cell_type": "code",
   "execution_count": 10,
   "metadata": {},
   "outputs": [
    {
     "name": "stdout",
     "output_type": "stream",
     "text": [
      "292\n",
      "307\n"
     ]
    }
   ],
   "source": [
    "groups1['group_num'] = groups1['group_num']+ groups0['group_num'].max()\n",
    "groups2['group_num'] = groups2['group_num']+ groups1['group_num'].max()\n",
    "print(groups1['group_num'].max())\n",
    "print(groups2['group_num'].max())"
   ]
  },
  {
   "cell_type": "code",
   "execution_count": 11,
   "metadata": {},
   "outputs": [
    {
     "name": "stdout",
     "output_type": "stream",
     "text": [
      "292\n",
      "307\n",
      "(10, 8) (2, 8)\n"
     ]
    },
    {
     "data": {
      "text/plain": [
       "(881, 8)"
      ]
     },
     "execution_count": 11,
     "metadata": {},
     "output_type": "execute_result"
    }
   ],
   "source": [
    "\n",
    "groups1_min = groups1[~groups1['email'].isin(groups2['email'])]\n",
    "groups1_new = groups1[~groups1['email'].isin(groups0['email'])]\n",
    "print(groups1_min['group_num'].max())\n",
    "groups0_min = groups0[~( groups0['email'].isin(groups2['email']) | groups0['email'].isin(groups1_min['email']) )]\n",
    "groups2_new = groups2[~( groups2['email'].isin(groups0['email']) | groups2['email'].isin(groups1['email']) )]\n",
    "groups_latest = pd.concat([pd.concat([groups0_min, groups1_min]), groups2])\n",
    "groups_latest = groups_latest[~( groups_latest['email'].isin(groups2_new['email']) | groups_latest['email'].isin(groups1_new['email']) )]\n",
    "print(groups_latest['group_num'].max())\n",
    "print(groups1_new.shape, groups2_new.shape)\n",
    "groups_latest.shape"
   ]
  },
  {
   "cell_type": "code",
   "execution_count": 12,
   "metadata": {},
   "outputs": [
    {
     "data": {
      "text/plain": [
       "Index(['group_num', 'email', 'sid', 'first', 'last', 'incoming_partners',\n",
       "       'outgoing_partners'],\n",
       "      dtype='object')"
      ]
     },
     "execution_count": 12,
     "metadata": {},
     "output_type": "execute_result"
    }
   ],
   "source": [
    "groups0.columns"
   ]
  },
  {
   "cell_type": "code",
   "execution_count": 13,
   "metadata": {},
   "outputs": [],
   "source": [
    "state0 = groups0[['group_num', 'email', 'sid']]\n",
    "state1 = pd.concat([pd.concat([groups0_min, groups1_min]), groups2])"
   ]
  },
  {
   "cell_type": "code",
   "execution_count": 14,
   "metadata": {},
   "outputs": [],
   "source": [
    "# matching_df_large = matching_df_large[matching_df_large['email']]"
   ]
  },
  {
   "cell_type": "code",
   "execution_count": 15,
   "metadata": {},
   "outputs": [],
   "source": [
    "students_to_interpolate = groups_latest[~(groups_latest['email'].isin(rew_final['email']))]"
   ]
  },
  {
   "cell_type": "code",
   "execution_count": 16,
   "metadata": {},
   "outputs": [
    {
     "data": {
      "text/plain": [
       "416"
      ]
     },
     "execution_count": 16,
     "metadata": {},
     "output_type": "execute_result"
    }
   ],
   "source": [
    "len(students_to_interpolate['email'])"
   ]
  },
  {
   "cell_type": "code",
   "execution_count": null,
   "metadata": {},
   "outputs": [],
   "source": []
  },
  {
   "cell_type": "code",
   "execution_count": 17,
   "metadata": {},
   "outputs": [
    {
     "data": {
      "text/plain": [
       "472"
      ]
     },
     "execution_count": 17,
     "metadata": {},
     "output_type": "execute_result"
    }
   ],
   "source": [
    "len(set(rew_final['email']))"
   ]
  },
  {
   "cell_type": "code",
   "execution_count": 18,
   "metadata": {},
   "outputs": [
    {
     "data": {
      "text/plain": [
       "472"
      ]
     },
     "execution_count": 18,
     "metadata": {},
     "output_type": "execute_result"
    }
   ],
   "source": [
    "len(rew_final['email'])"
   ]
  },
  {
   "cell_type": "code",
   "execution_count": 19,
   "metadata": {},
   "outputs": [],
   "source": [
    "# uniques, counts = np.unique(matching_df_final['Email Address'], return_counts=True)\n",
    "# uniques[counts>1]\n",
    "# matching_df_final[matching_df_final['Email Address'].isin(uniques[counts>1])]"
   ]
  },
  {
   "cell_type": "markdown",
   "metadata": {},
   "source": [
    "#### Matching one-hot-encoding"
   ]
  },
  {
   "cell_type": "code",
   "execution_count": 21,
   "metadata": {},
   "outputs": [],
   "source": [
    "matching_timestamps = matching_df_final.groupby('Email Address').agg({'Timestamp_x':'max'}).reset_index()['Timestamp_x']\n",
    "# .filter(lambda x: x['Timestamp'] == x['Timestamp'].max())\n",
    "matching_df_final = matching_df_final[matching_df_final['Timestamp_x'].isin(matching_timestamps)]"
   ]
  },
  {
   "cell_type": "code",
   "execution_count": 22,
   "metadata": {},
   "outputs": [],
   "source": [
    "from analysis import data_cleaning as dc"
   ]
  },
  {
   "cell_type": "code",
   "execution_count": 23,
   "metadata": {},
   "outputs": [
    {
     "data": {
      "text/plain": [
       "Index(['Timestamp_x', 'Email Address', 'First name', 'Last name', 'SID',\n",
       "       'What is the UTC timezone offset closest to you? ',\n",
       "       'What courses have you completed  (or passed out of) before this?',\n",
       "       'How much time are you hoping to put into 16A?',\n",
       "       'What other classes are you currently taking?',\n",
       "       'How important is it to you that you are assigned to a group with one or more people that self-identify in terms of gender the same way as you? We will do our best to match you according to these preferences but may not always be able to.',\n",
       "       'How important is it to you that your team is diverse and brings a variety of backgrounds to the group? We will do our best to match you according to these preferences but may not always be able to. ',\n",
       "       'What times of the day do you prefer meeting for your study group?',\n",
       "       'Timestamp_y', 'Name', 'Email', 'What year are you?',\n",
       "       'What timezone are you located in?',\n",
       "       'People come to Berkeley from many different types of institutions and levels of preparation. Check the boxes that apply to help us understand your background. Note we do not expect exposure to linear algebra or programming --- taking 61A in parallel is enough to keep up with the programming component in 16A.',\n",
       "       'How do you self-identify? (Check all that apply)',\n",
       "       'Which of these options best describes your race? (Check all that apply)',\n",
       "       'Do you self-identify as belonging to a historically underrepresented group in STEM?'],\n",
       "      dtype='object')"
      ]
     },
     "execution_count": 23,
     "metadata": {},
     "output_type": "execute_result"
    }
   ],
   "source": [
    "matching_df_final.columns"
   ]
  },
  {
   "cell_type": "code",
   "execution_count": 24,
   "metadata": {},
   "outputs": [],
   "source": [
    "matching_col_map = {\n",
    " 'Timestamp_x':'Timestamp',\n",
    " 'Email Address':'email',\n",
    " 'First name':'first', 'Last name':'last', 'SID':'sid',\n",
    " 'What is the UTC timezone offset closest to you? ':'timezone',\n",
    " 'What courses have you completed  (or passed out of) before this?':'courses_completed',\n",
    " 'How much time are you hoping to put into 16A?':'effort_desired',\n",
    " 'What other classes are you currently taking?':'course_taking',\n",
    " 'How important is it to you that you are assigned to a group with one or more people that self-identify in terms of gender the same way as you? We will do our best to match you according to these preferences but may not always be able to.':'id_importance',\n",
    " 'How important is it to you that your team is diverse and brings a variety of backgrounds to the group? We will do our best to match you according to these preferences but may not always be able to. ':'race_importance',\n",
    " 'What times of the day do you prefer meeting for your study group?':'time_of_day',\n",
    " 'Timestamp_y':'time2', 'Name':'full name', 'Email':'email2', 'What year are you?':'year',\n",
    " 'What timezone are you located in?':'timezone2',\n",
    " 'People come to Berkeley from many different types of institutions and levels of preparation. Check the boxes that apply to help us understand your background. Note we do not expect exposure to linear algebra or programming --- taking 61A in parallel is enough to keep up with the programming component in 16A.':'experience',\n",
    " 'How do you self-identify? (Check all that apply)':'gender_id',\n",
    " 'Which of these options best describes your race? (Check all that apply)':'race_id',\n",
    " 'Do you self-identify as belonging to a historically underrepresented group in STEM?':'hist_underrepresented'\n",
    "}"
   ]
  },
  {
   "cell_type": "code",
   "execution_count": 25,
   "metadata": {},
   "outputs": [
    {
     "data": {
      "text/plain": [
       "Index(['Timestamp', 'email', 'first', 'last', 'sid', 'timezone',\n",
       "       'courses_completed', 'effort_desired', 'course_taking', 'id_importance',\n",
       "       'race_importance', 'time_of_day', 'time2', 'full name', 'email2',\n",
       "       'year', 'timezone2', 'experience', 'gender_id', 'race_id',\n",
       "       'hist_underrepresented'],\n",
       "      dtype='object')"
      ]
     },
     "execution_count": 25,
     "metadata": {},
     "output_type": "execute_result"
    }
   ],
   "source": [
    "matching_df_cleaned = matching_df_final.rename(columns=matching_col_map)\n",
    "matching_df_cleaned.to_csv(path + \"cleaned/matching_input.csv\")\n",
    "matching_df_cleaned.columns"
   ]
  },
  {
   "cell_type": "code",
   "execution_count": 26,
   "metadata": {},
   "outputs": [
    {
     "data": {
      "text/plain": [
       "472"
      ]
     },
     "execution_count": 26,
     "metadata": {},
     "output_type": "execute_result"
    }
   ],
   "source": [
    "\"\"\"\n",
    "One-hot-encode!\n",
    "\"\"\"\n",
    "info = pd.read_csv(path + \"cleaned/matching_input.csv\")#,index='Unnamed: 0')\n",
    "# print(list(info.columns))\n",
    "\n",
    "normal_cols = ['email', 'first', 'last', 'sid', \n",
    "         'id_importance', 'race_importance']\n",
    "one_hot_cols = ['courses_completed',\n",
    "         'gender_id', \n",
    "         'race_id',\n",
    "         'effort_desired', \n",
    "         'course_taking',\n",
    "         'time_of_day',\n",
    "         'timezone2', \n",
    "         'year',\n",
    "         'experience', \n",
    "         'hist_underrepresented'\n",
    "        ]\n",
    "# print(info[one_hot_cols])\n",
    "\n",
    "# config = dc.DataCleanerConfig(\n",
    "#         dict(zip(normal_cols, normal_cols)),\n",
    "#         dict(zip(one_hot_cols, one_hot_cols))\n",
    "#     )\n",
    "config = dc.DataCleanerConfig(normal_cols, one_hot_cols)\n",
    "cleaner = dc.DataCleaner(config, info, \"email\")\n",
    "cleaner.ingest_file\n",
    "# cleaner.ingest_file(\"data/16a_reward_cleaned.csv\")\n",
    "input_df = cleaner.transform().fillna(-1)\n",
    "# input_df.to_csv(path + \"cleaned/input_encoded.csv\")\n",
    "input_df.head()\n",
    "len(input_df)"
   ]
  },
  {
   "cell_type": "code",
   "execution_count": 27,
   "metadata": {},
   "outputs": [
    {
     "ename": "NameError",
     "evalue": "name 'group_stud_rew_big' is not defined",
     "output_type": "error",
     "traceback": [
      "\u001b[1;31m---------------------------------------------------------------------------\u001b[0m",
      "\u001b[1;31mNameError\u001b[0m                                 Traceback (most recent call last)",
      "\u001b[1;32m<ipython-input-27-97fc203b6923>\u001b[0m in \u001b[0;36m<module>\u001b[1;34m\u001b[0m\n\u001b[0;32m      1\u001b[0m \u001b[1;31m# Repeat for larger matching df!\u001b[0m\u001b[1;33m\u001b[0m\u001b[1;33m\u001b[0m\u001b[1;33m\u001b[0m\u001b[0m\n\u001b[0;32m      2\u001b[0m \u001b[0mmatching_df_large_cleaned\u001b[0m \u001b[1;33m=\u001b[0m \u001b[0mmatching_df_large\u001b[0m\u001b[1;33m.\u001b[0m\u001b[0mrename\u001b[0m\u001b[1;33m(\u001b[0m\u001b[0mcolumns\u001b[0m\u001b[1;33m=\u001b[0m\u001b[0mmatching_col_map\u001b[0m\u001b[1;33m)\u001b[0m\u001b[1;33m\u001b[0m\u001b[1;33m\u001b[0m\u001b[0m\n\u001b[1;32m----> 3\u001b[1;33m \u001b[0mmatching_df_large_cleaned\u001b[0m \u001b[1;33m=\u001b[0m \u001b[0mmatching_df_large_cleaned\u001b[0m\u001b[1;33m[\u001b[0m\u001b[0mmatching_df_large_cleaned\u001b[0m\u001b[1;33m[\u001b[0m\u001b[1;34m'email'\u001b[0m\u001b[1;33m]\u001b[0m\u001b[1;33m.\u001b[0m\u001b[0misin\u001b[0m\u001b[1;33m(\u001b[0m\u001b[0mgroup_stud_rew_big\u001b[0m\u001b[1;33m[\u001b[0m\u001b[1;34m'email'\u001b[0m\u001b[1;33m]\u001b[0m\u001b[1;33m)\u001b[0m\u001b[1;33m]\u001b[0m\u001b[1;33m\u001b[0m\u001b[1;33m\u001b[0m\u001b[0m\n\u001b[0m\u001b[0;32m      4\u001b[0m \u001b[0mprint\u001b[0m\u001b[1;33m(\u001b[0m\u001b[0mmatching_df_large_cleaned\u001b[0m\u001b[1;33m.\u001b[0m\u001b[0mshape\u001b[0m\u001b[1;33m)\u001b[0m\u001b[1;33m\u001b[0m\u001b[1;33m\u001b[0m\u001b[0m\n\u001b[0;32m      5\u001b[0m \u001b[1;31m# matching_df_large_cleaned.to_csv(path + \"cleaned/matching_input_large.csv\")\u001b[0m\u001b[1;33m\u001b[0m\u001b[1;33m\u001b[0m\u001b[1;33m\u001b[0m\u001b[0m\n",
      "\u001b[1;31mNameError\u001b[0m: name 'group_stud_rew_big' is not defined"
     ]
    }
   ],
   "source": [
    "# Repeat for larger matching df!\n",
    "matching_df_large_cleaned = matching_df_large.rename(columns=matching_col_map)\n",
    "matching_df_large_cleaned = matching_df_large_cleaned[matching_df_large_cleaned['email'].isin(group_stud_rew_big['email'])]\n",
    "print(matching_df_large_cleaned.shape)\n",
    "# matching_df_large_cleaned.to_csv(path + \"cleaned/matching_input_large.csv\")\n",
    "# One-hot encode!\n"
   ]
  },
  {
   "cell_type": "code",
   "execution_count": null,
   "metadata": {},
   "outputs": [],
   "source": [
    "info = pd.read_csv(path + \"cleaned/matching_input_large.csv\")\n",
    "config = dc.DataCleanerConfig(\n",
    "        ['email', 'first', 'last', 'sid'],\n",
    "        ['courses_completed',\n",
    "         'gender_id', \n",
    "         'race_id',\n",
    "         'effort_desired', \n",
    "         'course_taking',\n",
    "         'time_of_day',\n",
    "         'timezone2', \n",
    "         'year',\n",
    "         'experience'\n",
    "        ],\n",
    "    )\n",
    "cleaner = dc.DataCleaner(config, info, \"email\")\n",
    "# cleaner.ingest_file(\"data/16a_reward_cleaned.csv\")\n",
    "input_df_large = cleaner.transform().fillna(0)\n",
    "input_df_large.to_csv(path + \"cleaned/input_large_encoded.csv\")\n",
    "input_df_large.head()"
   ]
  },
  {
   "cell_type": "code",
   "execution_count": 29,
   "metadata": {},
   "outputs": [
    {
     "data": {
      "text/plain": [
       "(516, 137)"
      ]
     },
     "execution_count": 29,
     "metadata": {},
     "output_type": "execute_result"
    }
   ],
   "source": [
    "# input_df_large = input_df_large.drop(columns=['id_importance','race_importance'])\n",
    "input_df_large.shape"
   ]
  },
  {
   "cell_type": "code",
   "execution_count": 30,
   "metadata": {},
   "outputs": [
    {
     "data": {
      "text/plain": [
       "(472, 21)"
      ]
     },
     "execution_count": 30,
     "metadata": {},
     "output_type": "execute_result"
    }
   ],
   "source": [
    "matching_df_cleaned.shape"
   ]
  },
  {
   "cell_type": "markdown",
   "metadata": {},
   "source": [
    "#### Group average scores"
   ]
  },
  {
   "cell_type": "code",
   "execution_count": null,
   "metadata": {
    "scrolled": true
   },
   "outputs": [],
   "source": [
    "groups_latest.head()"
   ]
  },
  {
   "cell_type": "code",
   "execution_count": null,
   "metadata": {},
   "outputs": [],
   "source": [
    "groups_final = groups_latest[groups_latest['email'].isin(rew_final['email'])]\n",
    "groups_final.head()"
   ]
  },
  {
   "cell_type": "code",
   "execution_count": 33,
   "metadata": {},
   "outputs": [],
   "source": [
    "# np.unique(groups_final['group_num'], return_counts=True)"
   ]
  },
  {
   "cell_type": "code",
   "execution_count": null,
   "metadata": {},
   "outputs": [],
   "source": [
    "group_stud_rew = groups_final.merge(rew_final, on='email')\n",
    "group_stud_rew.head()"
   ]
  },
  {
   "cell_type": "code",
   "execution_count": 32,
   "metadata": {},
   "outputs": [],
   "source": [
    "group_stud_rew.to_csv(path + \"cleaned/stud_group_scores.csv\")"
   ]
  },
  {
   "cell_type": "code",
   "execution_count": null,
   "metadata": {},
   "outputs": [],
   "source": [
    "group_scores = group_stud_rew.groupby('group_num') \\\n",
    "    .agg({'group_score':np.mean, 'email':list,'sid':list,'first':len }) \\\n",
    "    .rename(columns={'first':'count'}).reset_index()\n",
    "# group_scores.to_csv(path + \"cleaned/group_scores.csv\")\n",
    "group_scores.head()"
   ]
  },
  {
   "cell_type": "code",
   "execution_count": null,
   "metadata": {},
   "outputs": [],
   "source": [
    "students_to_interpolate.head()"
   ]
  },
  {
   "cell_type": "code",
   "execution_count": null,
   "metadata": {},
   "outputs": [],
   "source": [
    "group_scores_ltd = group_scores[group_scores['count']>1]\n",
    "groups = group_scores_ltd[['group_num', 'group_score']]\n",
    "group_scores_ltd"
   ]
  },
  {
   "cell_type": "code",
   "execution_count": 37,
   "metadata": {},
   "outputs": [
    {
     "data": {
      "text/plain": [
       "(135, 9)"
      ]
     },
     "execution_count": 37,
     "metadata": {},
     "output_type": "execute_result"
    }
   ],
   "source": [
    "interpolated_scores = students_to_interpolate.merge(group_scores_ltd[['group_num','group_score']], \n",
    "                                                   how='left',\n",
    "                                                   on='group_num')\n",
    "interpolated_scores = interpolated_scores[~np.isnan(interpolated_scores['group_score'])]\n",
    "interpolated_scores.shape"
   ]
  },
  {
   "cell_type": "code",
   "execution_count": 38,
   "metadata": {},
   "outputs": [],
   "source": [
    "group_stud_rew_big = group_stud_rew[group_stud_rew['group_num']\\\n",
    "                                    .isin(group_scores_ltd['group_num'])]\\\n",
    "                    .append(interpolated_scores)\n",
    "group_stud_rew_big['group_score'] = (group_stud_rew_big['group_score'] - \\\n",
    "                                     group_stud_rew_big['group_score'].mean())/group_stud_rew_big['group_score'].max() \n",
    "\n",
    "group_stud_rew_big.to_csv(path + \"cleaned/group_scores_per_stud_big.csv\")\n",
    "# len(set(group_stud_rew_big['email']))"
   ]
  },
  {
   "cell_type": "code",
   "execution_count": 39,
   "metadata": {},
   "outputs": [
    {
     "data": {
      "text/plain": [
       "(510, 9)"
      ]
     },
     "execution_count": 39,
     "metadata": {},
     "output_type": "execute_result"
    }
   ],
   "source": [
    "group_stud_rew_big.shape"
   ]
  },
  {
   "cell_type": "code",
   "execution_count": null,
   "metadata": {},
   "outputs": [],
   "source": [
    "group_stud_rew_big.iloc[:5]"
   ]
  },
  {
   "cell_type": "code",
   "execution_count": 46,
   "metadata": {},
   "outputs": [],
   "source": [
    "# np.unique(group_stud_rew_big['group_num'], return_counts=True)"
   ]
  },
  {
   "cell_type": "code",
   "execution_count": null,
   "metadata": {},
   "outputs": [],
   "source": [
    "big_group_scores = group_stud_rew_big.groupby('group_num') \\\n",
    "    .agg({'group_score':np.mean, 'email':list,'sid':list,'first':len }) \\\n",
    "    .rename(columns={'first':'count'}).reset_index()\n",
    "big_group_scores\n",
    "# big_group_scores.to_csv(path + \"cleaned/group_scores_big.csv\")\n",
    "big_group_scores.head()"
   ]
  },
  {
   "cell_type": "code",
   "execution_count": 48,
   "metadata": {},
   "outputs": [],
   "source": [
    "# groups1_min = groups1[~groups1['email'].isin(groups2['email'])]\n",
    "# groups1_new = groups1[~groups1['email'].isin(groups0['email'])]\n",
    "# groups0_min = groups0[~( groups0['email'].isin(groups2['email']) | groups0['email'].isin(groups1_min['email']) )]\n",
    "# groups2_new = groups2[~( groups2['email'].isin(groups0['email']) | groups2['email'].isin(groups1['email']) )]\n",
    "# groups_latest = pd.concat([pd.concat([groups0_min, groups1_min]), groups2])\n",
    "# groups_latest = groups_latest[~( groups_latest['email'].isin(groups2_new['email']) | groups_latest['email'].isin(groups1_new['email']) )]\n"
   ]
  },
  {
   "cell_type": "markdown",
   "metadata": {},
   "source": [
    "### RL Data Cleaning"
   ]
  },
  {
   "cell_type": "code",
   "execution_count": null,
   "metadata": {},
   "outputs": [
    {
     "name": "stdout",
     "output_type": "stream",
     "text": [
      "(510, 9)\n",
      "(510, 9)\n"
     ]
    }
   ],
   "source": [
    "\n",
    "stud_emails = list(set(group_stud_rew_big['email']))\n",
    "t_init = list(np.arange(len(stud_emails)))\n",
    "t0 = []\n",
    "t1 = []\n",
    "t2 = []\n",
    "rew_init = []\n",
    "rewt0_t1 = []\n",
    "rewt1_t2 = []\n",
    "\n",
    "for email in stud_emails:\n",
    "#     if email in skip_emails:\n",
    "#         continue\n",
    "    stud_t0 = groups0[groups0['email']==email]['group_num'].to_numpy()\n",
    "    \n",
    "    rew_init_ = group_stud_rew_big[group_stud_rew_big['email']==email]['group_score'].to_numpy()\n",
    "    rewt0_t1_ = group_stud_rew_big[group_stud_rew_big['email']==email]['group_score'].to_numpy()\n",
    "    \n",
    "    if email in list(groups1['email']):\n",
    "        stud_t1 = groups1[groups1['email']==email]['group_num'].to_numpy()\n",
    "        rew_init_ = -1\n",
    "#         print(\"y\")\n",
    "    else:\n",
    "        stud_t1 = stud_t0\n",
    "        \n",
    "    if email in list(groups2['email']):\n",
    "        stud_t2 = groups2[groups2['email']==email]['group_num'].to_numpy()\n",
    "        rewt0_t1_ = -1\n",
    "#         print(\"y2\")\n",
    "    else:\n",
    "        stud_t2 = stud_t1\n",
    "    \n",
    "    rewt1_t2_ = group_stud_rew_big[group_stud_rew_big['email']==email]['group_score'].to_numpy()\n",
    "    \n",
    "    t0.append(stud_t0)\n",
    "    t1.append(stud_t1)\n",
    "    t2.append(stud_t2)\n",
    "    \n",
    "    rew_init.append(rew_init_)\n",
    "    rewt0_t1.append(rewt0_t1_)\n",
    "    rewt1_t2.append(rewt1_t2_)\n",
    "    \n",
    "\n",
    "    \n",
    "terminal = np.ones(len(stud_emails))\n",
    "not_terminal = np.zeros(len(stud_emails))\n",
    "\n",
    "class_t0 = pd.DataFrame({\n",
    "    \"student\":stud_emails,\n",
    "    \"obs_\":t_init,\n",
    "    \"action\":t0,\n",
    "    \"next_obs_\":t0,\n",
    "    \"reward_ind\":rew_init,\n",
    "    \"terminal\":not_terminal\n",
    "})\n",
    "class_t1 = pd.DataFrame({\n",
    "    \"student\":stud_emails,\n",
    "    \"obs_\":t0,\n",
    "    \"action\":t1,\n",
    "    \"next_obs_\":t1,\n",
    "    \"reward_ind\":rewt0_t1,\n",
    "    \"terminal\":not_terminal\n",
    "})\n",
    "class_t2 = pd.DataFrame({\n",
    "    \"student\":stud_emails,\n",
    "    \"obs_\":t1,\n",
    "    \"action\":t2,\n",
    "    \"next_obs_\":t2,\n",
    "    \"reward_ind\":rewt1_t2,\n",
    "    \"terminal\":terminal\n",
    "})\n",
    "classes = [class_t0, class_t1, class_t2]"
   ]
  },
  {
   "cell_type": "code",
   "execution_count": 81,
   "metadata": {},
   "outputs": [],
   "source": [
    "# class_t0.shape\n",
    "# class_t1.shape"
   ]
  },
  {
   "cell_type": "code",
   "execution_count": 82,
   "metadata": {},
   "outputs": [
    {
     "data": {
      "text/plain": [
       "(472, 132)"
      ]
     },
     "execution_count": 82,
     "metadata": {},
     "output_type": "execute_result"
    }
   ],
   "source": [
    "input_df.shape"
   ]
  },
  {
   "cell_type": "code",
   "execution_count": 85,
   "metadata": {},
   "outputs": [
    {
     "data": {
      "text/plain": [
       "array([-5.72526775e-17])"
      ]
     },
     "execution_count": 85,
     "metadata": {},
     "output_type": "execute_result"
    }
   ],
   "source": [
    "class_t2[\"reward_ind\"].mean()"
   ]
  },
  {
   "cell_type": "code",
   "execution_count": 87,
   "metadata": {},
   "outputs": [],
   "source": [
    "import pickle"
   ]
  },
  {
   "cell_type": "code",
   "execution_count": 88,
   "metadata": {},
   "outputs": [],
   "source": [
    "input_df_large.shape\n",
    "with open('ipynb/input_df_large.pkl', 'wb') as file:\n",
    "    pickle.dump(input_df_large, file)"
   ]
  },
  {
   "cell_type": "code",
   "execution_count": 225,
   "metadata": {},
   "outputs": [
    {
     "data": {
      "text/plain": [
       "(525, 138)"
      ]
     },
     "execution_count": 225,
     "metadata": {},
     "output_type": "execute_result"
    }
   ],
   "source": [
    "input_df_large.shape"
   ]
  },
  {
   "cell_type": "code",
   "execution_count": 89,
   "metadata": {},
   "outputs": [],
   "source": [
    "obs_mats = []\n",
    "for cl in classes:\n",
    "    obs = {}#np.zeros((len(cl['student']),input_df_large.shape[1]-4))\n",
    "    for i in range(len(cl['student'])):\n",
    "        stud_email = cl['student'][i]\n",
    "        feats = input_df_large[input_df_large['email']==stud_email]\n",
    "        if feats.shape[0] >1:\n",
    "            feats = feats.drop(columns=['email', 'first', 'last', 'sid']).iloc[feats.shape[0]-1]\n",
    "        feat_arr = feats.drop(columns=['email', 'first', 'last', 'sid']).to_numpy()\n",
    "        if feat_arr.shape[0]>134:\n",
    "            print(feat_arr)\n",
    "        obs[stud_email] = feat_arr\n",
    "    obs_mats.append(obs)\n",
    "#         try:\n",
    "#             obs[i,-1] = cl['obs_'][i]\n",
    "#         except:\n",
    "#             print(i, stud_email, cl['obs_'][i])\n",
    "        \n",
    "#     for i in range(len(cl['student'])):\n",
    "#         stud_email = cl['student'][i]\n",
    "#         #Create permutations\n",
    "#         members = \n",
    "    "
   ]
  },
  {
   "cell_type": "code",
   "execution_count": 90,
   "metadata": {},
   "outputs": [],
   "source": [
    "#Bootstrapping/permuting!\n",
    "max_group_size = 4\n",
    "input_dim = input_df_large.shape[1]-4\n",
    "num_permutations_per_class = 100\n",
    "cl_perm0 = []\n",
    "\n",
    "cl_perm1 = []\n",
    "cl_perm2 = []\n",
    "\n",
    "for c in range(len( classes)):\n",
    "    cl = classes[c]\n",
    "    obs = obs_mats[c]\n",
    "    if c == 0:\n",
    "        cl_perm = cl_perm0\n",
    "    elif c==1:\n",
    "        cl_perm = cl_perm1\n",
    "    else:\n",
    "        cl_perm = cl_perm2\n",
    "        \n",
    "    for n in range(num_permutations_per_class):\n",
    "        \n",
    "        cl_new = {\"df\":cl}#.to_dict('split')\n",
    "#         cl_new[\"obs\"] = obs\n",
    "        obs_vec = np.zeros((len(cl['student']),input_dim + 1))\n",
    "        obs_new = np.zeros((len(cl['student']),max_group_size*input_dim + 1))\n",
    "        \n",
    "        for i in range(len(cl['student'])):\n",
    "            stud_email = cl['student'][i]\n",
    "#             print(i, input_dim)\n",
    "#             print(obs[stud_email])\n",
    "            obs_new[i, :input_dim] = obs[stud_email]\n",
    "            obs_new[i, -1] = cl[\"action\"][i]\n",
    "#             obs_vec[i, :input_dim] = obs[stud_email]\n",
    "#             obs_vec[i, -1] = cl[\"obs_\"][i]\n",
    "            stud_gpn = cl['action'][i][0]\n",
    "#             print(stud_gpn)\n",
    "            \n",
    "            stud_group = cl[cl['action'] == stud_gpn]\n",
    "            stud_group = stud_group[ stud_group['student'] != stud_email]\n",
    "#             try:\n",
    "            perm = np.random.choice(stud_group.shape[0], size=stud_group.shape[0], replace=False)\n",
    "#             print(stud_email)\n",
    "#             print( stud_group['student'])\n",
    "            perm_gp_emails = stud_group['student'].to_numpy()[perm]\n",
    "#             print(perm_gp_emails)\n",
    "#             if stud_group.shape[0] == 1:\n",
    "#                 print(perm_gp_emails)\n",
    "#                 obs_new[i, input_dim:(2)*input_dim] = obs[perm_gp_emails[0]]\n",
    "#             else:\n",
    "            for j in range(0,min(max_group_size, stud_group.shape[0])):\n",
    "                email = perm_gp_emails[j]\n",
    "                obs_new[i, j*input_dim:(j+1)*input_dim] = obs[email]\n",
    "        if c==0:\n",
    "            temp = np.zeros((len(cl['student']),max_group_size*input_dim + 1))\n",
    "            temp[:,:input_dim] =  obs_new[:, :input_dim]\n",
    "            cl_new[\"obs\"] = temp\n",
    "        elif c==1:\n",
    "            cl_new[\"obs\"] = cl_perm0[n][\"next_obs\"]\n",
    "        elif c==2:\n",
    "            cl_new[\"obs\"] = cl_perm1[n][\"next_obs\"]\n",
    "        cl_new[\"obs\"][i, -1] = cl[\"obs_\"][i]\n",
    "        cl_new[\"next_obs\"] = obs_new\n",
    "        cl_perm.append(cl_new)\n"
   ]
  },
  {
   "cell_type": "code",
   "execution_count": 91,
   "metadata": {},
   "outputs": [],
   "source": [
    "# # temp = \n",
    "# for cl in cl_perm0:\n",
    "\n",
    "# cl_perm1[\"obs\"] = cl_perm0[\"next_obs\"]\n",
    "# cl_perm2[\"obs\"] = cl_perm1[\"next_obs\"]\n"
   ]
  },
  {
   "cell_type": "code",
   "execution_count": null,
   "metadata": {},
   "outputs": [],
   "source": [
    "import pickle"
   ]
  },
  {
   "cell_type": "code",
   "execution_count": 242,
   "metadata": {},
   "outputs": [
    {
     "name": "stdout",
     "output_type": "stream",
     "text": [
      "(513, 537)\n"
     ]
    }
   ],
   "source": [
    "print(cl_perm0[13][\"next_obs\"].shape)\n",
    "\n",
    "# print(cl_perm[72])"
   ]
  },
  {
   "cell_type": "code",
   "execution_count": 238,
   "metadata": {},
   "outputs": [
    {
     "data": {
      "text/plain": [
       "dict_keys(['df', 'obs', 'next_obs'])"
      ]
     },
     "execution_count": 238,
     "metadata": {},
     "output_type": "execute_result"
    }
   ],
   "source": [
    "cl_perm0[1].keys()"
   ]
  },
  {
   "cell_type": "code",
   "execution_count": 92,
   "metadata": {},
   "outputs": [],
   "source": [
    "#Save all data\n",
    "!touch permuted_data.pkl\n",
    "with open(\"permuted_data.pkl\", \"wb\") as file:\n",
    "    pickle.dump({\"Step0\":cl_perm0, \"Step1\":cl_perm1, \"Step2\":cl_perm2}, file)"
   ]
  },
  {
   "cell_type": "markdown",
   "metadata": {},
   "source": [
    "## K-Means"
   ]
  },
  {
   "cell_type": "code",
   "execution_count": 46,
   "metadata": {},
   "outputs": [],
   "source": [
    "# !python -m pip install kneed"
   ]
  },
  {
   "cell_type": "code",
   "execution_count": 29,
   "metadata": {},
   "outputs": [],
   "source": [
    "import matplotlib.pyplot as plt\n",
    "from kneed import KneeLocator\n",
    "from sklearn.datasets import make_blobs\n",
    "from sklearn.cluster import KMeans\n",
    "from sklearn.metrics import silhouette_score\n",
    "from sklearn.preprocessing import StandardScaler"
   ]
  },
  {
   "cell_type": "code",
   "execution_count": 30,
   "metadata": {},
   "outputs": [
    {
     "data": {
      "text/plain": [
       "157"
      ]
     },
     "execution_count": 30,
     "metadata": {},
     "output_type": "execute_result"
    }
   ],
   "source": [
    "n_clusters = len(input_df)//3\n",
    "n_clusters"
   ]
  },
  {
   "cell_type": "markdown",
   "metadata": {},
   "source": [
    "Input: input_df\n",
    "\n",
    "Reward: group_scores"
   ]
  },
  {
   "cell_type": "code",
   "execution_count": 31,
   "metadata": {},
   "outputs": [],
   "source": [
    "def k_means_agent(df, k):\n",
    "    kmeans = KMeans(n_clusters = k)\n",
    "    x = df.drop(columns=['email', 'first', 'last', 'sid']).to_numpy()\n",
    "    kmeans.fit(x)\n",
    "    clusters = kmeans.labels_\n",
    "    \n",
    "    return clusters\n",
    "\n",
    "clusters_ex = k_means_agent(input_df, n_clusters)"
   ]
  },
  {
   "cell_type": "code",
   "execution_count": 32,
   "metadata": {},
   "outputs": [],
   "source": [
    "res_df = pd.DataFrame({'email':input_df['email'], 'sid':input_df['sid'], 'group':clusters_ex})"
   ]
  },
  {
   "cell_type": "code",
   "execution_count": 33,
   "metadata": {
    "scrolled": true
   },
   "outputs": [
    {
     "data": {
      "text/html": [
       "<div>\n",
       "<style scoped>\n",
       "    .dataframe tbody tr th:only-of-type {\n",
       "        vertical-align: middle;\n",
       "    }\n",
       "\n",
       "    .dataframe tbody tr th {\n",
       "        vertical-align: top;\n",
       "    }\n",
       "\n",
       "    .dataframe thead th {\n",
       "        text-align: right;\n",
       "    }\n",
       "</style>\n",
       "<table border=\"1\" class=\"dataframe\">\n",
       "  <thead>\n",
       "    <tr style=\"text-align: right;\">\n",
       "      <th></th>\n",
       "      <th>sid</th>\n",
       "      <th>group_size</th>\n",
       "    </tr>\n",
       "    <tr>\n",
       "      <th>group</th>\n",
       "      <th></th>\n",
       "      <th></th>\n",
       "    </tr>\n",
       "  </thead>\n",
       "  <tbody>\n",
       "    <tr>\n",
       "      <th>1</th>\n",
       "      <td>[3035828340, 3035576816, 3035854652, 303620144...</td>\n",
       "      <td>18</td>\n",
       "    </tr>\n",
       "    <tr>\n",
       "      <th>22</th>\n",
       "      <td>[3035813715, 3035781241, 3035879066, 303556193...</td>\n",
       "      <td>18</td>\n",
       "    </tr>\n",
       "    <tr>\n",
       "      <th>40</th>\n",
       "      <td>[3035772089, 3035877545, 3035754279, 303582977...</td>\n",
       "      <td>17</td>\n",
       "    </tr>\n",
       "    <tr>\n",
       "      <th>11</th>\n",
       "      <td>[3035829510, 3035949591, 3035760077, 303566138...</td>\n",
       "      <td>14</td>\n",
       "    </tr>\n",
       "    <tr>\n",
       "      <th>31</th>\n",
       "      <td>[3035729670, 3035839832, 3035818720, 303560167...</td>\n",
       "      <td>12</td>\n",
       "    </tr>\n",
       "    <tr>\n",
       "      <th>43</th>\n",
       "      <td>[3035845175, 3035793929, 3035589049, 303574005...</td>\n",
       "      <td>10</td>\n",
       "    </tr>\n",
       "    <tr>\n",
       "      <th>6</th>\n",
       "      <td>[3035641140, 3035740980, 3036206666, 303581140...</td>\n",
       "      <td>9</td>\n",
       "    </tr>\n",
       "    <tr>\n",
       "      <th>2</th>\n",
       "      <td>[3035843940, 3035581132, 3036111896, 303558130...</td>\n",
       "      <td>9</td>\n",
       "    </tr>\n",
       "    <tr>\n",
       "      <th>5</th>\n",
       "      <td>[3036114717, 3034714684, 3035735611, 303563477...</td>\n",
       "      <td>8</td>\n",
       "    </tr>\n",
       "    <tr>\n",
       "      <th>28</th>\n",
       "      <td>[3035699770, 3035779122, 3035863141, 303592452...</td>\n",
       "      <td>8</td>\n",
       "    </tr>\n",
       "    <tr>\n",
       "      <th>148</th>\n",
       "      <td>[3035702500, 3035271227, 3035770048, 303579173...</td>\n",
       "      <td>8</td>\n",
       "    </tr>\n",
       "    <tr>\n",
       "      <th>21</th>\n",
       "      <td>[3035698262, 3035683962, 3036086949, 303562481...</td>\n",
       "      <td>8</td>\n",
       "    </tr>\n",
       "    <tr>\n",
       "      <th>7</th>\n",
       "      <td>[3035847918, 3035988838, 3034166399, 303617776...</td>\n",
       "      <td>7</td>\n",
       "    </tr>\n",
       "    <tr>\n",
       "      <th>29</th>\n",
       "      <td>[3035816120, 3035735546, 3035933835, 303577385...</td>\n",
       "      <td>7</td>\n",
       "    </tr>\n",
       "    <tr>\n",
       "      <th>56</th>\n",
       "      <td>[3035700004, 3035737340, 3035662993, 303621796...</td>\n",
       "      <td>7</td>\n",
       "    </tr>\n",
       "    <tr>\n",
       "      <th>20</th>\n",
       "      <td>[3035707622, 3035743021, 3035640880, 303563227...</td>\n",
       "      <td>6</td>\n",
       "    </tr>\n",
       "    <tr>\n",
       "      <th>37</th>\n",
       "      <td>[3035885397, 3035674303, 3035559539, 303537655...</td>\n",
       "      <td>6</td>\n",
       "    </tr>\n",
       "    <tr>\n",
       "      <th>23</th>\n",
       "      <td>[3035786155, 3035686380, 3035859319, 303557369...</td>\n",
       "      <td>6</td>\n",
       "    </tr>\n",
       "    <tr>\n",
       "      <th>41</th>\n",
       "      <td>[3036233225, 3035727291, 3035559825, 303577877...</td>\n",
       "      <td>6</td>\n",
       "    </tr>\n",
       "    <tr>\n",
       "      <th>114</th>\n",
       "      <td>[3035856758, 3035603076, 3035972393, 303560901...</td>\n",
       "      <td>6</td>\n",
       "    </tr>\n",
       "    <tr>\n",
       "      <th>99</th>\n",
       "      <td>[3036027383, 3035726732, 3035716579, 303453122...</td>\n",
       "      <td>5</td>\n",
       "    </tr>\n",
       "    <tr>\n",
       "      <th>13</th>\n",
       "      <td>[3036149258, 3035884708, 3035825740, 303451514...</td>\n",
       "      <td>5</td>\n",
       "    </tr>\n",
       "    <tr>\n",
       "      <th>80</th>\n",
       "      <td>[3035590323, 3035684079, 3035656493, 303590531...</td>\n",
       "      <td>5</td>\n",
       "    </tr>\n",
       "    <tr>\n",
       "      <th>108</th>\n",
       "      <td>[3035664514, 3035590986, 3035814079, 303584581...</td>\n",
       "      <td>5</td>\n",
       "    </tr>\n",
       "    <tr>\n",
       "      <th>144</th>\n",
       "      <td>[3035837869, 3035861594, 3036149622, 303604458...</td>\n",
       "      <td>5</td>\n",
       "    </tr>\n",
       "    <tr>\n",
       "      <th>47</th>\n",
       "      <td>[3034813172, 3036213699, 3034539496, 303483697...</td>\n",
       "      <td>5</td>\n",
       "    </tr>\n",
       "    <tr>\n",
       "      <th>52</th>\n",
       "      <td>[3035817173, 3035902258, 3035921485, 303577128...</td>\n",
       "      <td>5</td>\n",
       "    </tr>\n",
       "    <tr>\n",
       "      <th>8</th>\n",
       "      <td>[3035649395, 3035557368, 3035712029, 303586061...</td>\n",
       "      <td>5</td>\n",
       "    </tr>\n",
       "    <tr>\n",
       "      <th>39</th>\n",
       "      <td>[3035693816, 3035683533, 3035878143, 3035587515]</td>\n",
       "      <td>4</td>\n",
       "    </tr>\n",
       "    <tr>\n",
       "      <th>94</th>\n",
       "      <td>[3035560319, 3035646769, 3035872592, 3035621679]</td>\n",
       "      <td>4</td>\n",
       "    </tr>\n",
       "    <tr>\n",
       "      <th>35</th>\n",
       "      <td>[3036086689, 3035001087, 3036166964, 3036062184]</td>\n",
       "      <td>4</td>\n",
       "    </tr>\n",
       "    <tr>\n",
       "      <th>81</th>\n",
       "      <td>[3034509908, 3034720092, 3034914377, 3034703452]</td>\n",
       "      <td>4</td>\n",
       "    </tr>\n",
       "    <tr>\n",
       "      <th>49</th>\n",
       "      <td>[3035798336, 3035451176, 3036006544, 3035703969]</td>\n",
       "      <td>4</td>\n",
       "    </tr>\n",
       "    <tr>\n",
       "      <th>32</th>\n",
       "      <td>[3036118890, 3034738201, 3034820894, 3036168251]</td>\n",
       "      <td>4</td>\n",
       "    </tr>\n",
       "    <tr>\n",
       "      <th>101</th>\n",
       "      <td>[3035764159, 3035654985, 3035907601, 3035706894]</td>\n",
       "      <td>4</td>\n",
       "    </tr>\n",
       "    <tr>\n",
       "      <th>127</th>\n",
       "      <td>[3035768202, 3036209825, 3035869238, 3035613385]</td>\n",
       "      <td>4</td>\n",
       "    </tr>\n",
       "    <tr>\n",
       "      <th>54</th>\n",
       "      <td>[3035271305, 3036048820, 3035935720, 3036178807]</td>\n",
       "      <td>4</td>\n",
       "    </tr>\n",
       "    <tr>\n",
       "      <th>110</th>\n",
       "      <td>[3035819552, 3035643467, 3035873879, 3035853261]</td>\n",
       "      <td>4</td>\n",
       "    </tr>\n",
       "    <tr>\n",
       "      <th>18</th>\n",
       "      <td>[3034854941, 3035542691, 3035713225, 3035789470]</td>\n",
       "      <td>4</td>\n",
       "    </tr>\n",
       "    <tr>\n",
       "      <th>17</th>\n",
       "      <td>[3035861906, 3035823972, 3035559708, 3035388956]</td>\n",
       "      <td>4</td>\n",
       "    </tr>\n",
       "    <tr>\n",
       "      <th>16</th>\n",
       "      <td>[3035848334, 3035887815, 3035762625, 3035646587]</td>\n",
       "      <td>4</td>\n",
       "    </tr>\n",
       "    <tr>\n",
       "      <th>76</th>\n",
       "      <td>[3034651894, 3034635085, 3034874025, 3034609449]</td>\n",
       "      <td>4</td>\n",
       "    </tr>\n",
       "    <tr>\n",
       "      <th>75</th>\n",
       "      <td>[3036169122, 3035678411, 3036182382, 3034031589]</td>\n",
       "      <td>4</td>\n",
       "    </tr>\n",
       "    <tr>\n",
       "      <th>10</th>\n",
       "      <td>[3035960901, 3036108737, 3036174387, 3035127824]</td>\n",
       "      <td>4</td>\n",
       "    </tr>\n",
       "    <tr>\n",
       "      <th>3</th>\n",
       "      <td>[3035854704, 3035888751, 3035724028, 3035859761]</td>\n",
       "      <td>4</td>\n",
       "    </tr>\n",
       "    <tr>\n",
       "      <th>91</th>\n",
       "      <td>[3036233849, 3035854158, 3035788755, 3035773532]</td>\n",
       "      <td>4</td>\n",
       "    </tr>\n",
       "    <tr>\n",
       "      <th>119</th>\n",
       "      <td>[3035680712, 3035840820, 3035318378]</td>\n",
       "      <td>3</td>\n",
       "    </tr>\n",
       "    <tr>\n",
       "      <th>79</th>\n",
       "      <td>[3034892641, 3034837937, 3034585165]</td>\n",
       "      <td>3</td>\n",
       "    </tr>\n",
       "    <tr>\n",
       "      <th>73</th>\n",
       "      <td>[3034539028, 3034822883, 3034949724]</td>\n",
       "      <td>3</td>\n",
       "    </tr>\n",
       "    <tr>\n",
       "      <th>62</th>\n",
       "      <td>[3034611022, 3036049223, 3036088717]</td>\n",
       "      <td>3</td>\n",
       "    </tr>\n",
       "    <tr>\n",
       "      <th>68</th>\n",
       "      <td>[3036130772, 3036172970, 3036183864]</td>\n",
       "      <td>3</td>\n",
       "    </tr>\n",
       "    <tr>\n",
       "      <th>50</th>\n",
       "      <td>[3036199529, 3035711756, 3036019544]</td>\n",
       "      <td>3</td>\n",
       "    </tr>\n",
       "    <tr>\n",
       "      <th>69</th>\n",
       "      <td>[3035947511, 3035943130, 3035986121]</td>\n",
       "      <td>3</td>\n",
       "    </tr>\n",
       "    <tr>\n",
       "      <th>120</th>\n",
       "      <td>[3035870122, 3035755111, 3035740005]</td>\n",
       "      <td>3</td>\n",
       "    </tr>\n",
       "    <tr>\n",
       "      <th>122</th>\n",
       "      <td>[3034626934, 3034876417, 3034822636]</td>\n",
       "      <td>3</td>\n",
       "    </tr>\n",
       "    <tr>\n",
       "      <th>112</th>\n",
       "      <td>[3033732602, 3035658807, 3035625241]</td>\n",
       "      <td>3</td>\n",
       "    </tr>\n",
       "    <tr>\n",
       "      <th>25</th>\n",
       "      <td>[3035939815, 3036027929, 3036110544]</td>\n",
       "      <td>3</td>\n",
       "    </tr>\n",
       "    <tr>\n",
       "      <th>48</th>\n",
       "      <td>[3036119072, 3036179925, 3033471183]</td>\n",
       "      <td>3</td>\n",
       "    </tr>\n",
       "    <tr>\n",
       "      <th>100</th>\n",
       "      <td>[3035882446, 3035605819, 3036187751]</td>\n",
       "      <td>3</td>\n",
       "    </tr>\n",
       "    <tr>\n",
       "      <th>44</th>\n",
       "      <td>[3035911007, 3035878416, 3036210228]</td>\n",
       "      <td>3</td>\n",
       "    </tr>\n",
       "    <tr>\n",
       "      <th>89</th>\n",
       "      <td>[3035805083, 3035703423, 3036208252]</td>\n",
       "      <td>3</td>\n",
       "    </tr>\n",
       "    <tr>\n",
       "      <th>130</th>\n",
       "      <td>[3035723820, 3035775547]</td>\n",
       "      <td>2</td>\n",
       "    </tr>\n",
       "    <tr>\n",
       "      <th>96</th>\n",
       "      <td>[3035703878, 3035630779]</td>\n",
       "      <td>2</td>\n",
       "    </tr>\n",
       "    <tr>\n",
       "      <th>140</th>\n",
       "      <td>[3035648433, 3035759011]</td>\n",
       "      <td>2</td>\n",
       "    </tr>\n",
       "    <tr>\n",
       "      <th>111</th>\n",
       "      <td>[3035204043, 3035290857]</td>\n",
       "      <td>2</td>\n",
       "    </tr>\n",
       "    <tr>\n",
       "      <th>82</th>\n",
       "      <td>[3035675603, 3035601750]</td>\n",
       "      <td>2</td>\n",
       "    </tr>\n",
       "    <tr>\n",
       "      <th>88</th>\n",
       "      <td>[3036185073, 3034795336]</td>\n",
       "      <td>2</td>\n",
       "    </tr>\n",
       "    <tr>\n",
       "      <th>72</th>\n",
       "      <td>[3036170461, 3036170136]</td>\n",
       "      <td>2</td>\n",
       "    </tr>\n",
       "    <tr>\n",
       "      <th>98</th>\n",
       "      <td>[3034749927, 3034735159]</td>\n",
       "      <td>2</td>\n",
       "    </tr>\n",
       "    <tr>\n",
       "      <th>0</th>\n",
       "      <td>[3035863583, 3035703514]</td>\n",
       "      <td>2</td>\n",
       "    </tr>\n",
       "    <tr>\n",
       "      <th>42</th>\n",
       "      <td>[3035725536, 3035904962]</td>\n",
       "      <td>2</td>\n",
       "    </tr>\n",
       "    <tr>\n",
       "      <th>53</th>\n",
       "      <td>[3036088587, 3036140626]</td>\n",
       "      <td>2</td>\n",
       "    </tr>\n",
       "    <tr>\n",
       "      <th>4</th>\n",
       "      <td>[3034742842, 3034673760]</td>\n",
       "      <td>2</td>\n",
       "    </tr>\n",
       "    <tr>\n",
       "      <th>9</th>\n",
       "      <td>[3035812571, 3035686068]</td>\n",
       "      <td>2</td>\n",
       "    </tr>\n",
       "    <tr>\n",
       "      <th>14</th>\n",
       "      <td>[3035747571, 3035809945]</td>\n",
       "      <td>2</td>\n",
       "    </tr>\n",
       "    <tr>\n",
       "      <th>15</th>\n",
       "      <td>[3036052486, 3035116865]</td>\n",
       "      <td>2</td>\n",
       "    </tr>\n",
       "    <tr>\n",
       "      <th>153</th>\n",
       "      <td>[3034640948, 3034843293]</td>\n",
       "      <td>2</td>\n",
       "    </tr>\n",
       "    <tr>\n",
       "      <th>26</th>\n",
       "      <td>[3034796532, 3034831710]</td>\n",
       "      <td>2</td>\n",
       "    </tr>\n",
       "    <tr>\n",
       "      <th>27</th>\n",
       "      <td>[3034510454, 3034534153]</td>\n",
       "      <td>2</td>\n",
       "    </tr>\n",
       "    <tr>\n",
       "      <th>36</th>\n",
       "      <td>[3034814680, 3033636545]</td>\n",
       "      <td>2</td>\n",
       "    </tr>\n",
       "    <tr>\n",
       "      <th>38</th>\n",
       "      <td>[3034812977, 3034845932]</td>\n",
       "      <td>2</td>\n",
       "    </tr>\n",
       "    <tr>\n",
       "      <th>45</th>\n",
       "      <td>[3035559838, 3035840677]</td>\n",
       "      <td>2</td>\n",
       "    </tr>\n",
       "    <tr>\n",
       "      <th>59</th>\n",
       "      <td>[3036047962, 3036039447]</td>\n",
       "      <td>2</td>\n",
       "    </tr>\n",
       "    <tr>\n",
       "      <th>63</th>\n",
       "      <td>[3034724538, 3034689269]</td>\n",
       "      <td>2</td>\n",
       "    </tr>\n",
       "    <tr>\n",
       "      <th>67</th>\n",
       "      <td>[3035616947, 3035851350]</td>\n",
       "      <td>2</td>\n",
       "    </tr>\n",
       "    <tr>\n",
       "      <th>61</th>\n",
       "      <td>[3035998692, 3036184371]</td>\n",
       "      <td>2</td>\n",
       "    </tr>\n",
       "    <tr>\n",
       "      <th>66</th>\n",
       "      <td>[3035647328, 3036335353]</td>\n",
       "      <td>2</td>\n",
       "    </tr>\n",
       "    <tr>\n",
       "      <th>55</th>\n",
       "      <td>[3035650604, 3035651527]</td>\n",
       "      <td>2</td>\n",
       "    </tr>\n",
       "    <tr>\n",
       "      <th>118</th>\n",
       "      <td>[3035816484, 3035748858]</td>\n",
       "      <td>2</td>\n",
       "    </tr>\n",
       "    <tr>\n",
       "      <th>58</th>\n",
       "      <td>[3034396083, 3035018078]</td>\n",
       "      <td>2</td>\n",
       "    </tr>\n",
       "    <tr>\n",
       "      <th>139</th>\n",
       "      <td>[3036152638]</td>\n",
       "      <td>1</td>\n",
       "    </tr>\n",
       "    <tr>\n",
       "      <th>126</th>\n",
       "      <td>[3034831762]</td>\n",
       "      <td>1</td>\n",
       "    </tr>\n",
       "    <tr>\n",
       "      <th>125</th>\n",
       "      <td>[3035692529]</td>\n",
       "      <td>1</td>\n",
       "    </tr>\n",
       "    <tr>\n",
       "      <th>124</th>\n",
       "      <td>[3035580729]</td>\n",
       "      <td>1</td>\n",
       "    </tr>\n",
       "    <tr>\n",
       "      <th>154</th>\n",
       "      <td>[3034103895]</td>\n",
       "      <td>1</td>\n",
       "    </tr>\n",
       "    <tr>\n",
       "      <th>123</th>\n",
       "      <td>[3034985227]</td>\n",
       "      <td>1</td>\n",
       "    </tr>\n",
       "    <tr>\n",
       "      <th>129</th>\n",
       "      <td>[3035741006]</td>\n",
       "      <td>1</td>\n",
       "    </tr>\n",
       "    <tr>\n",
       "      <th>145</th>\n",
       "      <td>[3035785349]</td>\n",
       "      <td>1</td>\n",
       "    </tr>\n",
       "    <tr>\n",
       "      <th>141</th>\n",
       "      <td>[3035632482]</td>\n",
       "      <td>1</td>\n",
       "    </tr>\n",
       "    <tr>\n",
       "      <th>155</th>\n",
       "      <td>[3035746089]</td>\n",
       "      <td>1</td>\n",
       "    </tr>\n",
       "    <tr>\n",
       "      <th>121</th>\n",
       "      <td>[3035989696]</td>\n",
       "      <td>1</td>\n",
       "    </tr>\n",
       "    <tr>\n",
       "      <th>128</th>\n",
       "      <td>[3036183721]</td>\n",
       "      <td>1</td>\n",
       "    </tr>\n",
       "    <tr>\n",
       "      <th>152</th>\n",
       "      <td>[3036171956]</td>\n",
       "      <td>1</td>\n",
       "    </tr>\n",
       "    <tr>\n",
       "      <th>146</th>\n",
       "      <td>[3036063978]</td>\n",
       "      <td>1</td>\n",
       "    </tr>\n",
       "    <tr>\n",
       "      <th>138</th>\n",
       "      <td>[3035624422]</td>\n",
       "      <td>1</td>\n",
       "    </tr>\n",
       "    <tr>\n",
       "      <th>151</th>\n",
       "      <td>[3035366673]</td>\n",
       "      <td>1</td>\n",
       "    </tr>\n",
       "    <tr>\n",
       "      <th>150</th>\n",
       "      <td>[3034935879]</td>\n",
       "      <td>1</td>\n",
       "    </tr>\n",
       "    <tr>\n",
       "      <th>131</th>\n",
       "      <td>[3036020259]</td>\n",
       "      <td>1</td>\n",
       "    </tr>\n",
       "    <tr>\n",
       "      <th>142</th>\n",
       "      <td>[3034882228]</td>\n",
       "      <td>1</td>\n",
       "    </tr>\n",
       "    <tr>\n",
       "      <th>132</th>\n",
       "      <td>[3034666727]</td>\n",
       "      <td>1</td>\n",
       "    </tr>\n",
       "    <tr>\n",
       "      <th>133</th>\n",
       "      <td>[3035888855]</td>\n",
       "      <td>1</td>\n",
       "    </tr>\n",
       "    <tr>\n",
       "      <th>147</th>\n",
       "      <td>[3034949230]</td>\n",
       "      <td>1</td>\n",
       "    </tr>\n",
       "    <tr>\n",
       "      <th>134</th>\n",
       "      <td>[3034835909]</td>\n",
       "      <td>1</td>\n",
       "    </tr>\n",
       "    <tr>\n",
       "      <th>149</th>\n",
       "      <td>[3036222058]</td>\n",
       "      <td>1</td>\n",
       "    </tr>\n",
       "    <tr>\n",
       "      <th>135</th>\n",
       "      <td>[3036213439]</td>\n",
       "      <td>1</td>\n",
       "    </tr>\n",
       "    <tr>\n",
       "      <th>136</th>\n",
       "      <td>[3034928768]</td>\n",
       "      <td>1</td>\n",
       "    </tr>\n",
       "    <tr>\n",
       "      <th>137</th>\n",
       "      <td>[3035592884]</td>\n",
       "      <td>1</td>\n",
       "    </tr>\n",
       "    <tr>\n",
       "      <th>143</th>\n",
       "      <td>[3035722130]</td>\n",
       "      <td>1</td>\n",
       "    </tr>\n",
       "    <tr>\n",
       "      <th>78</th>\n",
       "      <td>[3035730294]</td>\n",
       "      <td>1</td>\n",
       "    </tr>\n",
       "    <tr>\n",
       "      <th>117</th>\n",
       "      <td>[3035946809]</td>\n",
       "      <td>1</td>\n",
       "    </tr>\n",
       "    <tr>\n",
       "      <th>57</th>\n",
       "      <td>[3035189002]</td>\n",
       "      <td>1</td>\n",
       "    </tr>\n",
       "    <tr>\n",
       "      <th>77</th>\n",
       "      <td>[3036192444]</td>\n",
       "      <td>1</td>\n",
       "    </tr>\n",
       "    <tr>\n",
       "      <th>74</th>\n",
       "      <td>[3035652879]</td>\n",
       "      <td>1</td>\n",
       "    </tr>\n",
       "    <tr>\n",
       "      <th>71</th>\n",
       "      <td>[3035805603]</td>\n",
       "      <td>1</td>\n",
       "    </tr>\n",
       "    <tr>\n",
       "      <th>70</th>\n",
       "      <td>[3033750841]</td>\n",
       "      <td>1</td>\n",
       "    </tr>\n",
       "    <tr>\n",
       "      <th>65</th>\n",
       "      <td>[3035918209]</td>\n",
       "      <td>1</td>\n",
       "    </tr>\n",
       "    <tr>\n",
       "      <th>64</th>\n",
       "      <td>[3035631702]</td>\n",
       "      <td>1</td>\n",
       "    </tr>\n",
       "    <tr>\n",
       "      <th>60</th>\n",
       "      <td>[3031871779]</td>\n",
       "      <td>1</td>\n",
       "    </tr>\n",
       "    <tr>\n",
       "      <th>51</th>\n",
       "      <td>[3036030412]</td>\n",
       "      <td>1</td>\n",
       "    </tr>\n",
       "    <tr>\n",
       "      <th>116</th>\n",
       "      <td>[3035832305]</td>\n",
       "      <td>1</td>\n",
       "    </tr>\n",
       "    <tr>\n",
       "      <th>46</th>\n",
       "      <td>[24693430]</td>\n",
       "      <td>1</td>\n",
       "    </tr>\n",
       "    <tr>\n",
       "      <th>34</th>\n",
       "      <td>[3034560023]</td>\n",
       "      <td>1</td>\n",
       "    </tr>\n",
       "    <tr>\n",
       "      <th>33</th>\n",
       "      <td>[3033717249]</td>\n",
       "      <td>1</td>\n",
       "    </tr>\n",
       "    <tr>\n",
       "      <th>30</th>\n",
       "      <td>[3034765124]</td>\n",
       "      <td>1</td>\n",
       "    </tr>\n",
       "    <tr>\n",
       "      <th>24</th>\n",
       "      <td>[3035761767]</td>\n",
       "      <td>1</td>\n",
       "    </tr>\n",
       "    <tr>\n",
       "      <th>19</th>\n",
       "      <td>[3034599543]</td>\n",
       "      <td>1</td>\n",
       "    </tr>\n",
       "    <tr>\n",
       "      <th>12</th>\n",
       "      <td>[3034936867]</td>\n",
       "      <td>1</td>\n",
       "    </tr>\n",
       "    <tr>\n",
       "      <th>83</th>\n",
       "      <td>[3034818866]</td>\n",
       "      <td>1</td>\n",
       "    </tr>\n",
       "    <tr>\n",
       "      <th>84</th>\n",
       "      <td>[304734314]</td>\n",
       "      <td>1</td>\n",
       "    </tr>\n",
       "    <tr>\n",
       "      <th>85</th>\n",
       "      <td>[3033732043]</td>\n",
       "      <td>1</td>\n",
       "    </tr>\n",
       "    <tr>\n",
       "      <th>86</th>\n",
       "      <td>[3035620951]</td>\n",
       "      <td>1</td>\n",
       "    </tr>\n",
       "    <tr>\n",
       "      <th>115</th>\n",
       "      <td>[3034608617]</td>\n",
       "      <td>1</td>\n",
       "    </tr>\n",
       "    <tr>\n",
       "      <th>113</th>\n",
       "      <td>[3036166431]</td>\n",
       "      <td>1</td>\n",
       "    </tr>\n",
       "    <tr>\n",
       "      <th>109</th>\n",
       "      <td>[3034649957]</td>\n",
       "      <td>1</td>\n",
       "    </tr>\n",
       "    <tr>\n",
       "      <th>107</th>\n",
       "      <td>[3034519749]</td>\n",
       "      <td>1</td>\n",
       "    </tr>\n",
       "    <tr>\n",
       "      <th>106</th>\n",
       "      <td>[3035848516]</td>\n",
       "      <td>1</td>\n",
       "    </tr>\n",
       "    <tr>\n",
       "      <th>105</th>\n",
       "      <td>[3032788644]</td>\n",
       "      <td>1</td>\n",
       "    </tr>\n",
       "    <tr>\n",
       "      <th>104</th>\n",
       "      <td>[3033045069]</td>\n",
       "      <td>1</td>\n",
       "    </tr>\n",
       "    <tr>\n",
       "      <th>103</th>\n",
       "      <td>[3034791748]</td>\n",
       "      <td>1</td>\n",
       "    </tr>\n",
       "    <tr>\n",
       "      <th>102</th>\n",
       "      <td>[3036188245]</td>\n",
       "      <td>1</td>\n",
       "    </tr>\n",
       "    <tr>\n",
       "      <th>97</th>\n",
       "      <td>[3035367427]</td>\n",
       "      <td>1</td>\n",
       "    </tr>\n",
       "    <tr>\n",
       "      <th>95</th>\n",
       "      <td>[3036025017]</td>\n",
       "      <td>1</td>\n",
       "    </tr>\n",
       "    <tr>\n",
       "      <th>93</th>\n",
       "      <td>[3035945457]</td>\n",
       "      <td>1</td>\n",
       "    </tr>\n",
       "    <tr>\n",
       "      <th>92</th>\n",
       "      <td>[3036152755]</td>\n",
       "      <td>1</td>\n",
       "    </tr>\n",
       "    <tr>\n",
       "      <th>90</th>\n",
       "      <td>[3034728048]</td>\n",
       "      <td>1</td>\n",
       "    </tr>\n",
       "    <tr>\n",
       "      <th>87</th>\n",
       "      <td>[3034858893]</td>\n",
       "      <td>1</td>\n",
       "    </tr>\n",
       "    <tr>\n",
       "      <th>156</th>\n",
       "      <td>[3033478060]</td>\n",
       "      <td>1</td>\n",
       "    </tr>\n",
       "  </tbody>\n",
       "</table>\n",
       "</div>"
      ],
      "text/plain": [
       "                                                     sid  group_size\n",
       "group                                                               \n",
       "1      [3035828340, 3035576816, 3035854652, 303620144...          18\n",
       "22     [3035813715, 3035781241, 3035879066, 303556193...          18\n",
       "40     [3035772089, 3035877545, 3035754279, 303582977...          17\n",
       "11     [3035829510, 3035949591, 3035760077, 303566138...          14\n",
       "31     [3035729670, 3035839832, 3035818720, 303560167...          12\n",
       "43     [3035845175, 3035793929, 3035589049, 303574005...          10\n",
       "6      [3035641140, 3035740980, 3036206666, 303581140...           9\n",
       "2      [3035843940, 3035581132, 3036111896, 303558130...           9\n",
       "5      [3036114717, 3034714684, 3035735611, 303563477...           8\n",
       "28     [3035699770, 3035779122, 3035863141, 303592452...           8\n",
       "148    [3035702500, 3035271227, 3035770048, 303579173...           8\n",
       "21     [3035698262, 3035683962, 3036086949, 303562481...           8\n",
       "7      [3035847918, 3035988838, 3034166399, 303617776...           7\n",
       "29     [3035816120, 3035735546, 3035933835, 303577385...           7\n",
       "56     [3035700004, 3035737340, 3035662993, 303621796...           7\n",
       "20     [3035707622, 3035743021, 3035640880, 303563227...           6\n",
       "37     [3035885397, 3035674303, 3035559539, 303537655...           6\n",
       "23     [3035786155, 3035686380, 3035859319, 303557369...           6\n",
       "41     [3036233225, 3035727291, 3035559825, 303577877...           6\n",
       "114    [3035856758, 3035603076, 3035972393, 303560901...           6\n",
       "99     [3036027383, 3035726732, 3035716579, 303453122...           5\n",
       "13     [3036149258, 3035884708, 3035825740, 303451514...           5\n",
       "80     [3035590323, 3035684079, 3035656493, 303590531...           5\n",
       "108    [3035664514, 3035590986, 3035814079, 303584581...           5\n",
       "144    [3035837869, 3035861594, 3036149622, 303604458...           5\n",
       "47     [3034813172, 3036213699, 3034539496, 303483697...           5\n",
       "52     [3035817173, 3035902258, 3035921485, 303577128...           5\n",
       "8      [3035649395, 3035557368, 3035712029, 303586061...           5\n",
       "39      [3035693816, 3035683533, 3035878143, 3035587515]           4\n",
       "94      [3035560319, 3035646769, 3035872592, 3035621679]           4\n",
       "35      [3036086689, 3035001087, 3036166964, 3036062184]           4\n",
       "81      [3034509908, 3034720092, 3034914377, 3034703452]           4\n",
       "49      [3035798336, 3035451176, 3036006544, 3035703969]           4\n",
       "32      [3036118890, 3034738201, 3034820894, 3036168251]           4\n",
       "101     [3035764159, 3035654985, 3035907601, 3035706894]           4\n",
       "127     [3035768202, 3036209825, 3035869238, 3035613385]           4\n",
       "54      [3035271305, 3036048820, 3035935720, 3036178807]           4\n",
       "110     [3035819552, 3035643467, 3035873879, 3035853261]           4\n",
       "18      [3034854941, 3035542691, 3035713225, 3035789470]           4\n",
       "17      [3035861906, 3035823972, 3035559708, 3035388956]           4\n",
       "16      [3035848334, 3035887815, 3035762625, 3035646587]           4\n",
       "76      [3034651894, 3034635085, 3034874025, 3034609449]           4\n",
       "75      [3036169122, 3035678411, 3036182382, 3034031589]           4\n",
       "10      [3035960901, 3036108737, 3036174387, 3035127824]           4\n",
       "3       [3035854704, 3035888751, 3035724028, 3035859761]           4\n",
       "91      [3036233849, 3035854158, 3035788755, 3035773532]           4\n",
       "119                 [3035680712, 3035840820, 3035318378]           3\n",
       "79                  [3034892641, 3034837937, 3034585165]           3\n",
       "73                  [3034539028, 3034822883, 3034949724]           3\n",
       "62                  [3034611022, 3036049223, 3036088717]           3\n",
       "68                  [3036130772, 3036172970, 3036183864]           3\n",
       "50                  [3036199529, 3035711756, 3036019544]           3\n",
       "69                  [3035947511, 3035943130, 3035986121]           3\n",
       "120                 [3035870122, 3035755111, 3035740005]           3\n",
       "122                 [3034626934, 3034876417, 3034822636]           3\n",
       "112                 [3033732602, 3035658807, 3035625241]           3\n",
       "25                  [3035939815, 3036027929, 3036110544]           3\n",
       "48                  [3036119072, 3036179925, 3033471183]           3\n",
       "100                 [3035882446, 3035605819, 3036187751]           3\n",
       "44                  [3035911007, 3035878416, 3036210228]           3\n",
       "89                  [3035805083, 3035703423, 3036208252]           3\n",
       "130                             [3035723820, 3035775547]           2\n",
       "96                              [3035703878, 3035630779]           2\n",
       "140                             [3035648433, 3035759011]           2\n",
       "111                             [3035204043, 3035290857]           2\n",
       "82                              [3035675603, 3035601750]           2\n",
       "88                              [3036185073, 3034795336]           2\n",
       "72                              [3036170461, 3036170136]           2\n",
       "98                              [3034749927, 3034735159]           2\n",
       "0                               [3035863583, 3035703514]           2\n",
       "42                              [3035725536, 3035904962]           2\n",
       "53                              [3036088587, 3036140626]           2\n",
       "4                               [3034742842, 3034673760]           2\n",
       "9                               [3035812571, 3035686068]           2\n",
       "14                              [3035747571, 3035809945]           2\n",
       "15                              [3036052486, 3035116865]           2\n",
       "153                             [3034640948, 3034843293]           2\n",
       "26                              [3034796532, 3034831710]           2\n",
       "27                              [3034510454, 3034534153]           2\n",
       "36                              [3034814680, 3033636545]           2\n",
       "38                              [3034812977, 3034845932]           2\n",
       "45                              [3035559838, 3035840677]           2\n",
       "59                              [3036047962, 3036039447]           2\n",
       "63                              [3034724538, 3034689269]           2\n",
       "67                              [3035616947, 3035851350]           2\n",
       "61                              [3035998692, 3036184371]           2\n",
       "66                              [3035647328, 3036335353]           2\n",
       "55                              [3035650604, 3035651527]           2\n",
       "118                             [3035816484, 3035748858]           2\n",
       "58                              [3034396083, 3035018078]           2\n",
       "139                                         [3036152638]           1\n",
       "126                                         [3034831762]           1\n",
       "125                                         [3035692529]           1\n",
       "124                                         [3035580729]           1\n",
       "154                                         [3034103895]           1\n",
       "123                                         [3034985227]           1\n",
       "129                                         [3035741006]           1\n",
       "145                                         [3035785349]           1\n",
       "141                                         [3035632482]           1\n",
       "155                                         [3035746089]           1\n",
       "121                                         [3035989696]           1\n",
       "128                                         [3036183721]           1\n",
       "152                                         [3036171956]           1\n",
       "146                                         [3036063978]           1\n",
       "138                                         [3035624422]           1\n",
       "151                                         [3035366673]           1\n",
       "150                                         [3034935879]           1\n",
       "131                                         [3036020259]           1\n",
       "142                                         [3034882228]           1\n",
       "132                                         [3034666727]           1\n",
       "133                                         [3035888855]           1\n",
       "147                                         [3034949230]           1\n",
       "134                                         [3034835909]           1\n",
       "149                                         [3036222058]           1\n",
       "135                                         [3036213439]           1\n",
       "136                                         [3034928768]           1\n",
       "137                                         [3035592884]           1\n",
       "143                                         [3035722130]           1\n",
       "78                                          [3035730294]           1\n",
       "117                                         [3035946809]           1\n",
       "57                                          [3035189002]           1\n",
       "77                                          [3036192444]           1\n",
       "74                                          [3035652879]           1\n",
       "71                                          [3035805603]           1\n",
       "70                                          [3033750841]           1\n",
       "65                                          [3035918209]           1\n",
       "64                                          [3035631702]           1\n",
       "60                                          [3031871779]           1\n",
       "51                                          [3036030412]           1\n",
       "116                                         [3035832305]           1\n",
       "46                                            [24693430]           1\n",
       "34                                          [3034560023]           1\n",
       "33                                          [3033717249]           1\n",
       "30                                          [3034765124]           1\n",
       "24                                          [3035761767]           1\n",
       "19                                          [3034599543]           1\n",
       "12                                          [3034936867]           1\n",
       "83                                          [3034818866]           1\n",
       "84                                           [304734314]           1\n",
       "85                                          [3033732043]           1\n",
       "86                                          [3035620951]           1\n",
       "115                                         [3034608617]           1\n",
       "113                                         [3036166431]           1\n",
       "109                                         [3034649957]           1\n",
       "107                                         [3034519749]           1\n",
       "106                                         [3035848516]           1\n",
       "105                                         [3032788644]           1\n",
       "104                                         [3033045069]           1\n",
       "103                                         [3034791748]           1\n",
       "102                                         [3036188245]           1\n",
       "97                                          [3035367427]           1\n",
       "95                                          [3036025017]           1\n",
       "93                                          [3035945457]           1\n",
       "92                                          [3036152755]           1\n",
       "90                                          [3034728048]           1\n",
       "87                                          [3034858893]           1\n",
       "156                                         [3033478060]           1"
      ]
     },
     "execution_count": 33,
     "metadata": {},
     "output_type": "execute_result"
    }
   ],
   "source": [
    "groups = res_df.groupby('group')\\\n",
    "  .agg({'sid':list, 'email':len}).rename(columns={'email':'group_size'})\\\n",
    "  .sort_values(by='group_size', ascending=False)\n",
    "groups\n"
   ]
  },
  {
   "cell_type": "code",
   "execution_count": 34,
   "metadata": {},
   "outputs": [],
   "source": [
    "from sklearn.decomposition import PCA"
   ]
  },
  {
   "cell_type": "code",
   "execution_count": 35,
   "metadata": {},
   "outputs": [
    {
     "data": {
      "image/png": "[encoded data removed]",
      "text/plain": [
       "<Figure size 432x288 with 1 Axes>"
      ]
     },
     "metadata": {
      "needs_background": "light"
     },
     "output_type": "display_data"
    },
    {
     "data": {
      "image/png": "[encoded data removed]",
      "text/plain": [
       "<Figure size 432x288 with 1 Axes>"
      ]
     },
     "metadata": {
      "needs_background": "light"
     },
     "output_type": "display_data"
    }
   ],
   "source": [
    "pca = PCA(n_components=20)\n",
    "principalComponents = pca.fit_transform(input_df.drop(columns=['email', 'first', 'last', 'sid']).to_numpy())\n",
    "features = range(pca.n_components_)\n",
    "plt.bar(features, pca.explained_variance_ratio_, color='black')\n",
    "plt.xlabel('PCA features')\n",
    "plt.ylabel('variance %')\n",
    "plt.xticks(features)\n",
    "plt.show()\n",
    "\n",
    "PCA_components = pd.DataFrame(principalComponents)\n",
    "\n",
    "\n",
    "plt.scatter(PCA_components[0], PCA_components[1], alpha=.1, color='black')\n",
    "plt.xlabel('PCA 1')\n",
    "plt.ylabel('PCA 2')\n",
    "plt.show()\n",
    "\n",
    "\n"
   ]
  },
  {
   "cell_type": "markdown",
   "metadata": {},
   "source": [
    "## Deep nn reward model (Q-net)"
   ]
  },
  {
   "cell_type": "code",
   "execution_count": 44,
   "metadata": {},
   "outputs": [],
   "source": [
    "import torch\n",
    "import torch.nn as nn\n",
    "import torch.nn.functional as F"
   ]
  },
  {
   "cell_type": "code",
   "execution_count": 46,
   "metadata": {},
   "outputs": [
    {
     "data": {
      "text/plain": [
       "Index(['email', 'first', 'last', 'sid', 'id_importance', 'race_importance',\n",
       "       'courses_completed_61A',\n",
       "       'courses_completed_61A, Linear Algebra course at a community college',\n",
       "       'courses_completed_61A, Math 54 (Note Math 54 is not required at all for the L&S or EECS major and is not required for 16A)',\n",
       "       'courses_completed_Linear Algebra course at a community college',\n",
       "       ...\n",
       "       'experience_I have not had much exposure to programming',\n",
       "       'experience_I have not had much exposure to programming, I have had lots of exposure to linear algebra',\n",
       "       'experience_I have not had much exposure to programming, I have had some exposure to linear algebra',\n",
       "       'experience_I have not had much exposure to programming, I have had some exposure to programming',\n",
       "       'experience_I have not had much exposure to programming, I have not had much exposure to linear algebra',\n",
       "       'hist_underrepresented_Maybe', 'hist_underrepresented_No',\n",
       "       'hist_underrepresented_Yes', 'group_num', 'group_score'],\n",
       "      dtype='object', length=134)"
      ]
     },
     "execution_count": 46,
     "metadata": {},
     "output_type": "execute_result"
    }
   ],
   "source": [
    "input_w_groups = input_df.merge(group_stud_rew[['sid', 'group_num', 'group_score']], on=['sid'])\n",
    "input_w_groups.columns"
   ]
  },
  {
   "cell_type": "code",
   "execution_count": 84,
   "metadata": {},
   "outputs": [],
   "source": [
    "X = input_w_groups.drop(columns=['email', 'first', 'last']).rename(columns={'sid':'student_id'})\n",
    "X['group_score'] = X['group_score']/np.max(X['group_score'])\n",
    "X = X.to_csv(\"ipynb/16a_fa20_data/cleaned/ML_inputdf.csv\")\n",
    "# X = X.drop(columns=['student_id'])"
   ]
  },
  {
   "cell_type": "code",
   "execution_count": 68,
   "metadata": {},
   "outputs": [
    {
     "data": {
      "text/plain": [
       "128"
      ]
     },
     "execution_count": 68,
     "metadata": {},
     "output_type": "execute_result"
    }
   ],
   "source": [
    "## Fixed parameters\n",
    "D_in = X.shape[1]-2  # Don't include group information in input to network, but batch=1 group\n",
    "D_out = 1\n",
    "D_in"
   ]
  },
  {
   "cell_type": "code",
   "execution_count": 69,
   "metadata": {},
   "outputs": [],
   "source": [
    "## Hyperparameters\n",
    "lrs = [1e-5, 5e-5, 1e-4, 2.5e-4, 5e-4, 1e-3, 5e-3]\n",
    "t_iters = [100, 500, 1000, 2000, 5000, 10000]\n",
    "# batch_size = [5, 10, 20]\n",
    "\n",
    "hidden_layers = 2\n",
    "layer_size = 128\n",
    "max_per_group = group_scores['count'].max()"
   ]
  },
  {
   "cell_type": "code",
   "execution_count": 74,
   "metadata": {},
   "outputs": [],
   "source": [
    "def run_nn(lr, t_iters, hidden_layers, layer_size, split_idxs, return_model=False):\n",
    "    ### Set up Q-net\n",
    "    q_net = torch.nn.Sequential(\n",
    "        torch.nn.Linear(D_in*max_per_group, layer_size),\n",
    "        torch.nn.ReLU(),\n",
    "        torch.nn.Linear(layer_size, layer_size),\n",
    "        torch.nn.ReLU(),\n",
    "        torch.nn.Linear(layer_size, D_out),\n",
    "    )\n",
    "\n",
    "    loss_fn = torch.nn.MSELoss(reduction='sum')\n",
    "    params = list(q_net.parameters())\n",
    "    \n",
    "    optimizer = torch.optim.Adam(params, lr=lr)\n",
    "    \n",
    "    \n",
    "    #Train/validation split\n",
    "    split_perc = 0.05\n",
    "#     print(groups)\n",
    "    gps_valid = groups.iloc[split_idxs[:int(split_perc*groups.shape[0])]]\n",
    "    gps_train = groups.iloc[split_idxs[int(split_perc*groups.shape[0]):]]\n",
    "    \n",
    "    #Pre-train q-network\n",
    "    losses = []\n",
    "    gps_random = gps_train.iloc[np.random.permutation(gps_train.shape[0])]\n",
    "    for t in range(t_iters):\n",
    "        gp = gps_random.iloc[t%gps_train.shape[0]]\n",
    "#         print(gp)\n",
    "        group_num = gp['group_num']\n",
    "\n",
    "        if t % gps_train.shape[0] == 0: #Shuffle groups after running through them once\n",
    "            gps_random = gps_train.iloc[np.random.permutation(gps_train.shape[0])]\n",
    "\n",
    "        group_pre = X[X['group_num'] == group_num]\n",
    "        group_ind_scores = group_pre['group_score']\n",
    "        group_array = group_pre.drop(columns=['group_num','group_score']).to_numpy()\n",
    "        group_t = np.zeros((D_in*max_per_group, 1))\n",
    "#         print(t)\n",
    "#         print(D_in)\n",
    "#         print(group_array.shape[1])\n",
    "#         print(group_t.shape)\n",
    "#         print(group_array.shape[0])\n",
    "#         print()\n",
    "        for i in range(group_array.shape[0]):\n",
    "#             print(group_array[i].shape)\n",
    "            group_t[i*D_in:(i+1)*D_in] = group_array[i].reshape(D_in,1)\n",
    "        \n",
    "        \n",
    "        y_pred = q_net(torch.tensor(group_t.T).float())\n",
    "        y_final_pred = torch.mean(y_pred)\n",
    "\n",
    "        y_true = torch.tensor(gp['group_score']).float()\n",
    "\n",
    "        loss = loss_fn(y_final_pred, y_true)\n",
    "        if t % (t_iters//10) == (t_iters//10 - 1):\n",
    "#             print(t, loss.item())\n",
    "            losses.append([loss.item()])\n",
    "\n",
    "        # Zero the gradients before running the backward pass.\n",
    "        optimizer.zero_grad()\n",
    "\n",
    "        loss.backward()\n",
    "\n",
    "        # Update the weights using Adam\n",
    "        optimizer.step()\n",
    "        \n",
    "    #Validation loss\n",
    "    valid_losses = []\n",
    "    for i in range(gps_valid.shape[0]):\n",
    "        gp = gps_valid.iloc[i]\n",
    "        group_num = gp['group_num']\n",
    "        \n",
    "        \n",
    "        group_pre = X[X['group_num'] == group_num]\n",
    "        group_ind_scores = group_pre['group_score']\n",
    "        group_array = group_pre.drop(columns=['group_num','group_score']).to_numpy()\n",
    "        group_t = np.zeros((D_in*max_per_group, 1))\n",
    "        \n",
    "        \n",
    "#         print(group_array.shape[0])\n",
    "        for i in range(group_array.shape[0]):\n",
    "#             print(group_array[i].shape)\n",
    "            group_t[i*D_in:(i+1)*D_in] = group_array[i].reshape(D_in,1)\n",
    "            \n",
    "#         group_t = X[X['group_num'] == group_num].drop(columns=['group_num','group_score']).to_numpy()\n",
    "        y_pred = q_net(torch.tensor(group_t.T).float())\n",
    "        y_final_pred = torch.mean(y_pred)\n",
    "\n",
    "        y_true = torch.tensor(gp['group_score']).float()\n",
    "\n",
    "        loss = loss_fn(y_final_pred, y_true)\n",
    "        \n",
    "        valid_losses.append([loss.item()])\n",
    "    if return_model:\n",
    "        return np.array(losses).squeeze(), np.mean(np.array(valid_losses)), q_net\n",
    "    else:\n",
    "        del q_net\n",
    "        if torch.cuda.is_available():\n",
    "            torch.cuda.empty_cache()\n",
    "\n",
    "        return np.array(losses).squeeze(), np.mean(np.array(valid_losses)), None"
   ]
  },
  {
   "cell_type": "code",
   "execution_count": 80,
   "metadata": {
    "scrolled": true
   },
   "outputs": [
    {
     "data": {
      "text/plain": [
       "(array([2.24803209e+00, 3.41233820e-01, 4.94595349e-01, 1.92010880e-01,\n",
       "        3.12233686e+00, 1.76254828e-02, 1.28252641e-03, 1.58308327e+00,\n",
       "        1.84568930e-02, 2.37181429e-02]),\n",
       " 1.15599545960625,\n",
       " None)"
      ]
     },
     "execution_count": 80,
     "metadata": {},
     "output_type": "execute_result"
    }
   ],
   "source": [
    "split_idxs = np.random.permutation(groups.shape[0])\n",
    "\n",
    "# train_losses = np.zeros((len(lrs), len(t_iters), 10))\n",
    "# valid_losses = np.zeros((len(lrs), len(t_iters)))\n",
    "# best_valid_loss = 500\n",
    "# best_model = None\n",
    "# for i1 in range(len(lrs)):\n",
    "#     for i2 in range(len(t_iters)):\n",
    "#         print(\"\\nNew training cycle\")\n",
    "#         print(\"learning rate: \", lrs[i1])\n",
    "#         print(\"training iterations:\", t_iters[i2])\n",
    "#         res = run_nn(lrs[i1], t_iters[i2], hidden_layers, layer_size, split_idxs)\n",
    "#         print(res[1])\n",
    "#         train_losses[i1, i2], valid_losses[i1, i2], model = res\n",
    "#         if valid_losses[i1, i2] < best_valid_loss:\n",
    "#             best_valid_loss = valid_losses[i1, i2]\n",
    "#             best_model = model\n",
    "            \n",
    "res = run_nn(0.01, 20000, hidden_layers, layer_size, split_idxs)\n",
    "# train_losses[i1, i2], valid_losses[i1, i2], model = res\n",
    "# if valid_losses[i1, i2] < best_valid_loss:\n",
    "#     best_valid_loss = valid_losses[i1, i2]\n",
    "#     best_model = model\n",
    "res"
   ]
  },
  {
   "cell_type": "code",
   "execution_count": 72,
   "metadata": {},
   "outputs": [
    {
     "name": "stdout",
     "output_type": "stream",
     "text": [
      "[[10.73421165 11.82642694  9.51406747  8.46641566  8.49149076  9.10791749]\n",
      " [ 7.94661759  6.7750001   6.11620508  7.2392578   6.81509302  8.19326869]\n",
      " [ 6.30535449  7.95649364  8.35032859  8.40269125  8.2001605   9.22637198]\n",
      " [ 5.91094624  5.24123231  5.87737959  7.6786539   6.12617563  4.74595902]\n",
      " [ 7.70513346  7.86562248  7.15731155  9.53336923 10.57945976  4.96780215]]\n",
      "4.74595901795796\n",
      "Best eval performance: learning rate 0.01 , training iterations: 20000\n"
     ]
    }
   ],
   "source": [
    "print(valid_losses)\n",
    "print(np.min(valid_losses))\n",
    "##Change this to separate whole groups out for training and evaluation,\n",
    "##  rather than students\n",
    "idxs = np.unravel_index(np.argmin(valid_losses, axis=None), valid_losses.shape)\n",
    "print(\"Best eval performance: learning rate\", lrs[idxs[0]],  \", training iterations:\",t_iters[idxs[1]])"
   ]
  },
  {
   "cell_type": "code",
   "execution_count": 73,
   "metadata": {},
   "outputs": [],
   "source": [
    "import seaborn as sns"
   ]
  },
  {
   "cell_type": "code",
   "execution_count": 74,
   "metadata": {
    "scrolled": false
   },
   "outputs": [
    {
     "data": {
      "image/png": "[encoded data removed]",
      "text/plain": [
       "<Figure size 432x288 with 1 Axes>"
      ]
     },
     "metadata": {
      "needs_background": "light"
     },
     "output_type": "display_data"
    },
    {
     "data": {
      "image/png": "[encoded data removed]",
      "text/plain": [
       "<Figure size 432x288 with 1 Axes>"
      ]
     },
     "metadata": {
      "needs_background": "light"
     },
     "output_type": "display_data"
    },
    {
     "data": {
      "image/png": "[encoded data removed]",
      "text/plain": [
       "<Figure size 432x288 with 1 Axes>"
      ]
     },
     "metadata": {
      "needs_background": "light"
     },
     "output_type": "display_data"
    },
    {
     "data": {
      "image/png": "[encoded data removed]",
      "text/plain": [
       "<Figure size 432x288 with 1 Axes>"
      ]
     },
     "metadata": {
      "needs_background": "light"
     },
     "output_type": "display_data"
    },
    {
     "data": {
      "image/png": "[encoded data removed]",
      "text/plain": [
       "<Figure size 432x288 with 1 Axes>"
      ]
     },
     "metadata": {
      "needs_background": "light"
     },
     "output_type": "display_data"
    },
    {
     "data": {
      "image/png": "[encoded data removed]",
      "text/plain": [
       "<Figure size 432x288 with 1 Axes>"
      ]
     },
     "metadata": {
      "needs_background": "light"
     },
     "output_type": "display_data"
    },
    {
     "data": {
      "image/png": "[encoded data removed]",
      "text/plain": [
       "<Figure size 432x288 with 1 Axes>"
      ]
     },
     "metadata": {
      "needs_background": "light"
     },
     "output_type": "display_data"
    },
    {
     "data": {
      "image/png": "[encoded data removed]",
      "text/plain": [
       "<Figure size 432x288 with 1 Axes>"
      ]
     },
     "metadata": {
      "needs_background": "light"
     },
     "output_type": "display_data"
    },
    {
     "data": {
      "image/png": "[encoded data removed]",
      "text/plain": [
       "<Figure size 432x288 with 1 Axes>"
      ]
     },
     "metadata": {
      "needs_background": "light"
     },
     "output_type": "display_data"
    },
    {
     "data": {
      "image/png": "[encoded data removed]",
      "text/plain": [
       "<Figure size 432x288 with 1 Axes>"
      ]
     },
     "metadata": {
      "needs_background": "light"
     },
     "output_type": "display_data"
    },
    {
     "data": {
      "image/png": "[encoded data removed]",
      "text/plain": [
       "<Figure size 432x288 with 1 Axes>"
      ]
     },
     "metadata": {
      "needs_background": "light"
     },
     "output_type": "display_data"
    },
    {
     "data": {
      "image/png": "[encoded data removed]",
      "text/plain": [
       "<Figure size 432x288 with 1 Axes>"
      ]
     },
     "metadata": {
      "needs_background": "light"
     },
     "output_type": "display_data"
    }
   ],
   "source": [
    "# valid_pivot = pd.pivot_table(values=train_losses, index=t_iters, columns=lrs)\n",
    "# sns.scatterplot(data=valid_pivot)\n",
    "for i2 in range(len(t_iters)):\n",
    "    for i1 in range(len(lrs)):\n",
    "        train_trajectory = train_losses[i1, i2]\n",
    "        sns.lineplot(x = np.round(np.arange(10)/10*t_iters[i2]), \n",
    "                     y = train_trajectory)\n",
    "    plt.title(\"Training trajectories over \" + str(t_iters[i2]) + \" iterations\")\n",
    "    plt.legend(labels=lrs, title=\"Learning rate\")\n",
    "    plt.show()\n",
    "    \n",
    "    sns.scatterplot(y = valid_losses[:,i2], x=lrs)\n",
    "    plt.title(\"Validation loss at lr, for \" + str(t_iters[i2]) +\" iterations\")\n",
    "    plt.show()\n"
   ]
  },
  {
   "cell_type": "code",
   "execution_count": 76,
   "metadata": {},
   "outputs": [],
   "source": [
    "# lrs = [1e-3, 2e-3, 5e-3, 1e-2, 2e-2]\n",
    "# t_iters = [4000, 5000, 8000, 10000, 15000, 20000]\n",
    "\n",
    "# split_idxs = np.random.permutation(groups.shape[0])\n",
    "\n",
    "# train_losses = np.zeros((len(lrs), len(t_iters), 10))\n",
    "# valid_losses = np.zeros((len(lrs), len(t_iters)))\n",
    "# # best_valid_loss = 500\n",
    "\n",
    "# for i1 in range(len(lrs)):\n",
    "#     for i2 in range(len(t_iters)):\n",
    "#         print(\"\\nNew training cycle\")\n",
    "#         print(\"learning rate: \", lrs[i1])\n",
    "#         print(\"training iterations:\", t_iters[i2])\n",
    "#         train_losses[i1, i2], valid_losses[i1, i2], model = run_nn(lrs[i1], t_iters[i2], hidden_layers, layer_size, split_idxs)\n",
    "#         if valid_losses[i1, i2] < best_valid_loss:\n",
    "#             best_valid_loss = valid_losses[i1, i2]\n",
    "#             best_model = model"
   ]
  },
  {
   "cell_type": "code",
   "execution_count": 3,
   "metadata": {},
   "outputs": [],
   "source": [
    "import matplotlib.pyplot as plt"
   ]
  },
  {
   "cell_type": "code",
   "execution_count": 10,
   "metadata": {
    "scrolled": true
   },
   "outputs": [
    {
     "data": {
      "image/png": "[encoded data removed]",
      "text/plain": [
       "<Figure size 432x288 with 1 Axes>"
      ]
     },
     "metadata": {
      "needs_background": "light"
     },
     "output_type": "display_data"
    }
   ],
   "source": [
    "# for i2 in range(len(t_iters)):\n",
    "#     for i1 in range(len(lrs)):\n",
    "#         train_trajectory = train_losses[i1, i2]\n",
    "#         sns.lineplot(x = np.round(np.arange(10)/10*t_iters[i2]), \n",
    "#                      y = train_trajectory)\n",
    "#     plt.title(\"Training trajectories over \" + str(t_iters[i2]) + \" iterations\")\n",
    "#     plt.legend(labels=lrs, title=\"Learning rate\")\n",
    "#     plt.show()\n",
    "    \n",
    "#     sns.scatterplot(y = valid_losses[:,i2], x=lrs)\n",
    "#     plt.title(\"Validation loss at lr, for \" + str(t_iters[i2]) +\" iterations\")\n",
    "#     plt.xlabel()\n",
    "#     plt.show()\n",
    "\n",
    "# sns.scatterplot(y = valid_losses[:,i2], x=lrs)\n",
    "plt.title(\"Validation loss at lr, for \")\n",
    "plt.xlabel(\"Value of learning rate\")\n",
    "plt.ylabel(\"Validation loss\")\n",
    "plt.show()"
   ]
  },
  {
   "cell_type": "code",
   "execution_count": null,
   "metadata": {},
   "outputs": [],
   "source": [
    "\n",
    "idxs = np.unravel_index(np.argmin(valid_losses, axis=None), valid_losses.shape)\n",
    "print(\"Best eval performance: learning rate\", lrs[idxs[0]],  \", training iterations:\",t_iters[idxs[1]])\n",
    "print(np.min(valid_losses,axis=None))"
   ]
  },
  {
   "cell_type": "markdown",
   "metadata": {},
   "source": [
    "### Best model"
   ]
  },
  {
   "cell_type": "code",
   "execution_count": 67,
   "metadata": {},
   "outputs": [
    {
     "name": "stdout",
     "output_type": "stream",
     "text": [
      "1999 0.009646955877542496\n",
      "3999 0.07775816321372986\n",
      "5999 0.8595005869865417\n",
      "7999 0.42924392223358154\n",
      "9999 0.10796286910772324\n",
      "11999 0.07207860052585602\n",
      "13999 0.028184033930301666\n",
      "15999 0.006286927964538336\n",
      "17999 0.3347834050655365\n",
      "19999 0.02701297029852867\n"
     ]
    },
    {
     "data": {
      "text/plain": [
       "4.39617184656007"
      ]
     },
     "execution_count": 67,
     "metadata": {},
     "output_type": "execute_result"
    }
   ],
   "source": [
    "split_idxs = np.random.permutation(groups.shape[0])\n",
    "\n",
    "train_loss, valid_loss, q_net = run_nn(0.002, 20000, hidden_layers, layer_size, split_idxs, return_model=True)\n",
    "valid_loss"
   ]
  },
  {
   "cell_type": "code",
   "execution_count": 70,
   "metadata": {
    "scrolled": true
   },
   "outputs": [],
   "source": [
    "layer1_weights = q_net[0].weight.detach().numpy()\n"
   ]
  },
  {
   "cell_type": "code",
   "execution_count": null,
   "metadata": {},
   "outputs": [],
   "source": []
  }
 ],
 "metadata": {
  "kernelspec": {
   "display_name": "Python 3",
   "language": "python",
   "name": "python3"
  },
  "language_info": {
   "codemirror_mode": {
    "name": "ipython",
    "version": 3
   },
   "file_extension": ".py",
   "mimetype": "text/x-python",
   "name": "python",
   "nbconvert_exporter": "python",
   "pygments_lexer": "ipython3",
   "version": "3.8.3"
  }
 },
 "nbformat": 4,
 "nbformat_minor": 4
}
