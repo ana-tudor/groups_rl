{
 "cells": [
  {
   "cell_type": "markdown",
   "metadata": {
    "id": "gUl_qfOR8JV6"
   },
   "source": [
    "## Setup\n",
    "\n",
    "You will need to make a copy of this notebook in your Google Drive before you can edit the homework files. You can do so with **File &rarr; Save a copy in Drive**."
   ]
  },
  {
   "cell_type": "markdown",
   "metadata": {
    "id": "Nii6qk2C9Ipk"
   },
   "source": [
    "## Run Agent"
   ]
  },
  {
   "cell_type": "code",
   "execution_count": null,
   "metadata": {
    "cellView": "both",
    "id": "wF4LSRGn-_Cv"
   },
   "outputs": [],
   "source": []
  },
  {
   "cell_type": "code",
   "execution_count": null,
   "metadata": {
    "id": "_kTH-tXkI-B-"
   },
   "outputs": [],
   "source": [
    "#@markdown You can visualize your runs with tensorboard from within the notebook\n",
    "\n",
    "## requires tensorflow==2.3.0\n",
    "%load_ext tensorboard\n",
    "%tensorboard --logdir /content/cs285_f2021/homework_fall2021/hw5/data/"
   ]
  },
  {
   "cell_type": "code",
   "execution_count": 1,
   "metadata": {},
   "outputs": [
    {
     "name": "stdout",
     "output_type": "stream",
     "text": [
      "Obtaining file:///C:/Users/anamt/OneDrive/Documents/Berkeley/research/group-matching-research\n",
      "Installing collected packages: studygroups-rl\n",
      "  Attempting uninstall: studygroups-rl\n",
      "    Found existing installation: studygroups-rl 0.1.0\n",
      "    Uninstalling studygroups-rl-0.1.0:\n",
      "      Successfully uninstalled studygroups-rl-0.1.0\n",
      "  Running setup.py develop for studygroups-rl\n",
      "Successfully installed studygroups-rl\n"
     ]
    }
   ],
   "source": [
    "!pip install -e ."
   ]
  },
  {
   "cell_type": "code",
   "execution_count": 23,
   "metadata": {
    "id": "BwF7tQPQ66hB"
   },
   "outputs": [
    {
     "name": "stdout",
     "output_type": "stream",
     "text": [
      "^C\n"
     ]
    }
   ],
   "source": [
    "!python studygroups_rl/scripts/run_ac.py \\\n",
    "  --exp_name test_n100_gamma0.4 --n_iter=100 --discount=.4 --total_size=513 -ngpu"
   ]
  },
  {
   "cell_type": "code",
   "execution_count": 24,
   "metadata": {},
   "outputs": [
    {
     "name": "stdout",
     "output_type": "stream",
     "text": [
      "\n",
      "\n",
      "\n",
      "LOGGING TO:  C:\\Users\\anamt\\OneDrive\\Documents\\Berkeley\\research\\group-matching-research\\studygroups_rl\\scripts\\./rl_data\\test_n100_gamma0.4_studygroups_15-12-2021_11-39-32 \n",
      "\n",
      "\n",
      "\n",
      "########################\n",
      "logging outputs to  C:\\Users\\anamt\\OneDrive\\Documents\\Berkeley\\research\\group-matching-research\\studygroups_rl\\scripts\\./rl_data\\test_n100_gamma0.4_studygroups_15-12-2021_11-39-32\n",
      "########################\n",
      "GPU not detected. Defaulting to CPU.\n",
      "\n",
      "\n",
      "********** Iteration 0 ************\n",
      "\n",
      "Training agent...\n",
      "\n",
      "Beginning logging procedure...\n",
      "running time 122.122172\n",
      "\n",
      "~Running Evaluation~ \n",
      "\n",
      "^C\n"
     ]
    }
   ],
   "source": [
    "!python studygroups_rl/scripts/run_ac.py \\\n",
    "  --exp_name test_n100_gamma0.9 --n_iter=100 --discount=.9 --total_size=513 -ngpu"
   ]
  },
  {
   "cell_type": "code",
   "execution_count": null,
   "metadata": {},
   "outputs": [],
   "source": [
    "!python studygroups_rl/scripts/run_ac.py \\\n",
    "  --exp_name test_n100_gamma0.1 --n_iter=100 --discount=.1 --total_size=513 -ngpu"
   ]
  },
  {
   "cell_type": "code",
   "execution_count": 17,
   "metadata": {},
   "outputs": [
    {
     "name": "stdout",
     "output_type": "stream",
     "text": [
      "\n",
      "\n",
      "\n",
      "LOGGING TO:  C:\\Users\\anamt\\OneDrive\\Documents\\Berkeley\\research\\group-matching-research\\studygroups_rl\\scripts\\./rl_data\\test_n1000_gamma0.9_studygroups_15-12-2021_04-06-57 \n",
      "\n",
      "\n",
      "\n"
     ]
    },
    {
     "name": "stderr",
     "output_type": "stream",
     "text": [
      "Traceback (most recent call last):\n",
      "  File \"studygroups_rl/scripts/run_ac.py\", line 179, in <module>\n",
      "    main()\n",
      "  File \"studygroups_rl/scripts/run_ac.py\", line 175, in main\n",
      "    trainer.run_training_loop()\n",
      "  File \"studygroups_rl/scripts/run_ac.py\", line 78, in run_training_loop\n",
      "    self.rl_trainer.run_training_loop(\n",
      "  File \"c:\\users\\anamt\\onedrive\\documents\\berkeley\\research\\group-matching-research\\studygroups_rl\\infrastructure\\rl_trainer.py\", line 123, in run_training_loop\n",
      "    self.perform_dqn_logging(all_logs)\n",
      "  File \"c:\\users\\anamt\\onedrive\\documents\\berkeley\\research\\group-matching-research\\studygroups_rl\\infrastructure\\rl_trainer.py\", line 266, in perform_dqn_logging\n",
      "    self.logger.log_scalar(value, key, self.agent.t)\n",
      "AttributeError: 'AWACAgent' object has no attribute 't'\n"
     ]
    },
    {
     "name": "stdout",
     "output_type": "stream",
     "text": [
      "########################\n",
      "logging outputs to  C:\\Users\\anamt\\OneDrive\\Documents\\Berkeley\\research\\group-matching-research\\studygroups_rl\\scripts\\./rl_data\\test_n1000_gamma0.9_studygroups_15-12-2021_04-06-57\n",
      "########################\n",
      "GPU not detected. Defaulting to CPU.\n",
      "\n",
      "\n",
      "********** Iteration 0 ************\n",
      "\n",
      "Training agent...\n",
      "\n",
      "Beginning logging procedure...\n",
      "running time 128.532001\n",
      "\n",
      "~Running Evaluation~ \n",
      "\n",
      "TimeSinceStart : 128.53200149536133\n"
     ]
    }
   ],
   "source": [
    "!python studygroups_rl/scripts/run_ac.py \\\n",
    "  --exp_name test_n1000_gamma0.9 --n_iter=1000 --discount=.9 --total_size=513 -ngpu"
   ]
  },
  {
   "cell_type": "code",
   "execution_count": 18,
   "metadata": {},
   "outputs": [
    {
     "name": "stdout",
     "output_type": "stream",
     "text": [
      "\n",
      "\n",
      "\n",
      "LOGGING TO:  C:\\Users\\anamt\\OneDrive\\Documents\\Berkeley\\research\\group-matching-research\\studygroups_rl\\scripts\\./rl_data\\test_n500_gamma0.5_studygroups_15-12-2021_04-19-55 \n",
      "\n",
      "\n",
      "\n",
      "########################\n",
      "logging outputs to  C:\\Users\\anamt\\OneDrive\\Documents\\Berkeley\\research\\group-matching-research\\studygroups_rl\\scripts\\./rl_data\\test_n500_gamma0.5_studygroups_15-12-2021_04-19-55\n",
      "########################\n",
      "GPU not detected. Defaulting to CPU.\n",
      "\n",
      "\n",
      "********** Iteration 0 ************\n",
      "\n",
      "Training agent...\n"
     ]
    },
    {
     "name": "stderr",
     "output_type": "stream",
     "text": [
      "Traceback (most recent call last):\n",
      "  File \"studygroups_rl/scripts/run_ac.py\", line 179, in <module>\n",
      "    main()\n",
      "  File \"studygroups_rl/scripts/run_ac.py\", line 175, in main\n",
      "    trainer.run_training_loop()\n",
      "  File \"studygroups_rl/scripts/run_ac.py\", line 78, in run_training_loop\n",
      "    self.rl_trainer.run_training_loop(\n",
      "  File \"c:\\users\\anamt\\onedrive\\documents\\berkeley\\research\\group-matching-research\\studygroups_rl\\infrastructure\\rl_trainer.py\", line 123, in run_training_loop\n",
      "    self.perform_dqn_logging(all_logs)\n",
      "  File \"c:\\users\\anamt\\onedrive\\documents\\berkeley\\research\\group-matching-research\\studygroups_rl\\infrastructure\\rl_trainer.py\", line 266, in perform_dqn_logging\n",
      "    self.logger.log_scalar(value, key, self.agent.t)\n",
      "AttributeError: 'AWACAgent' object has no attribute 't'\n"
     ]
    },
    {
     "name": "stdout",
     "output_type": "stream",
     "text": [
      "\n",
      "Beginning logging procedure...\n",
      "running time 121.343208\n",
      "\n",
      "~Running Evaluation~ \n",
      "\n",
      "TimeSinceStart : 121.34320759773254\n"
     ]
    }
   ],
   "source": [
    "!python studygroups_rl/scripts/run_ac.py \\\n",
    "  --exp_name test_n500_gamma0.5 --n_iter=500 --discount=.5 --total_size=513 -ngpu"
   ]
  },
  {
   "cell_type": "code",
   "execution_count": 19,
   "metadata": {},
   "outputs": [
    {
     "name": "stdout",
     "output_type": "stream",
     "text": [
      "\n",
      "\n",
      "\n",
      "LOGGING TO:  C:\\Users\\anamt\\OneDrive\\Documents\\Berkeley\\research\\group-matching-research\\studygroups_rl\\scripts\\./rl_data\\test_n500_gamma0.4_studygroups_15-12-2021_04-32-50 \n",
      "\n",
      "\n",
      "\n",
      "########################\n",
      "logging outputs to  C:\\Users\\anamt\\OneDrive\\Documents\\Berkeley\\research\\group-matching-research\\studygroups_rl\\scripts\\./rl_data\\test_n500_gamma0.4_studygroups_15-12-2021_04-32-50\n",
      "########################\n",
      "GPU not detected. Defaulting to CPU.\n",
      "\n",
      "\n",
      "********** Iteration 0 ************\n",
      "\n",
      "Training agent...\n",
      "\n",
      "Beginning logging procedure...\n",
      "running time 157.019219\n",
      "\n",
      "~Running Evaluation~ \n",
      "\n",
      "TimeSinceStart : 157.01921916007996\n"
     ]
    },
    {
     "name": "stderr",
     "output_type": "stream",
     "text": [
      "Traceback (most recent call last):\n",
      "  File \"studygroups_rl/scripts/run_ac.py\", line 179, in <module>\n",
      "    main()\n",
      "  File \"studygroups_rl/scripts/run_ac.py\", line 175, in main\n",
      "    trainer.run_training_loop()\n",
      "  File \"studygroups_rl/scripts/run_ac.py\", line 78, in run_training_loop\n",
      "    self.rl_trainer.run_training_loop(\n",
      "  File \"c:\\users\\anamt\\onedrive\\documents\\berkeley\\research\\group-matching-research\\studygroups_rl\\infrastructure\\rl_trainer.py\", line 123, in run_training_loop\n",
      "    self.perform_dqn_logging(all_logs)\n",
      "  File \"c:\\users\\anamt\\onedrive\\documents\\berkeley\\research\\group-matching-research\\studygroups_rl\\infrastructure\\rl_trainer.py\", line 266, in perform_dqn_logging\n",
      "    self.logger.log_scalar(value, key, self.agent.t)\n",
      "AttributeError: 'AWACAgent' object has no attribute 't'\n"
     ]
    }
   ],
   "source": [
    "!python studygroups_rl/scripts/run_ac.py \\\n",
    "  --exp_name test_n500_gamma0.4 --n_iter=500 --discount=.4 --total_size=513 -ngpu"
   ]
  },
  {
   "cell_type": "code",
   "execution_count": 20,
   "metadata": {},
   "outputs": [
    {
     "name": "stdout",
     "output_type": "stream",
     "text": [
      "\n",
      "\n",
      "\n",
      "LOGGING TO:  C:\\Users\\anamt\\OneDrive\\Documents\\Berkeley\\research\\group-matching-research\\studygroups_rl\\scripts\\./rl_data\\test_n500_gamma0.9_studygroups_15-12-2021_04-51-36 \n",
      "\n",
      "\n",
      "\n",
      "########################\n",
      "logging outputs to  C:\\Users\\anamt\\OneDrive\\Documents\\Berkeley\\research\\group-matching-research\\studygroups_rl\\scripts\\./rl_data\\test_n500_gamma0.9_studygroups_15-12-2021_04-51-36\n",
      "########################\n",
      "GPU not detected. Defaulting to CPU.\n",
      "\n",
      "\n",
      "********** Iteration 0 ************\n",
      "\n",
      "Training agent...\n",
      "\n",
      "Beginning logging procedure...\n",
      "running time 157.910681\n",
      "\n",
      "~Running Evaluation~ \n",
      "\n",
      "TimeSinceStart : 157.9106810092926\n"
     ]
    },
    {
     "name": "stderr",
     "output_type": "stream",
     "text": [
      "Traceback (most recent call last):\n",
      "  File \"studygroups_rl/scripts/run_ac.py\", line 179, in <module>\n",
      "    main()\n",
      "  File \"studygroups_rl/scripts/run_ac.py\", line 175, in main\n",
      "    trainer.run_training_loop()\n",
      "  File \"studygroups_rl/scripts/run_ac.py\", line 78, in run_training_loop\n",
      "    self.rl_trainer.run_training_loop(\n",
      "  File \"c:\\users\\anamt\\onedrive\\documents\\berkeley\\research\\group-matching-research\\studygroups_rl\\infrastructure\\rl_trainer.py\", line 123, in run_training_loop\n",
      "    self.perform_dqn_logging(all_logs)\n",
      "  File \"c:\\users\\anamt\\onedrive\\documents\\berkeley\\research\\group-matching-research\\studygroups_rl\\infrastructure\\rl_trainer.py\", line 266, in perform_dqn_logging\n",
      "    self.logger.log_scalar(value, key, self.agent.t)\n",
      "AttributeError: 'AWACAgent' object has no attribute 't'\n"
     ]
    }
   ],
   "source": [
    "!python studygroups_rl/scripts/run_ac.py \\\n",
    "  --exp_name test_n500_gamma0.9 --n_iter=500 --discount=.9 --total_size=513 -ngpu"
   ]
  },
  {
   "cell_type": "code",
   "execution_count": 21,
   "metadata": {},
   "outputs": [
    {
     "name": "stdout",
     "output_type": "stream",
     "text": [
      "\n",
      "\n",
      "\n",
      "LOGGING TO:  C:\\Users\\anamt\\OneDrive\\Documents\\Berkeley\\research\\group-matching-research\\studygroups_rl\\scripts\\./rl_data\\test_n500_gamma0.9_studygroups_15-12-2021_05-06-02 \n",
      "\n",
      "\n",
      "\n",
      "########################\n",
      "logging outputs to  C:\\Users\\anamt\\OneDrive\\Documents\\Berkeley\\research\\group-matching-research\\studygroups_rl\\scripts\\./rl_data\\test_n500_gamma0.9_studygroups_15-12-2021_05-06-02\n",
      "########################\n",
      "GPU not detected. Defaulting to CPU.\n",
      "\n",
      "\n",
      "********** Iteration 0 ************\n",
      "\n",
      "Training agent...\n",
      "\n",
      "Beginning logging procedure...\n",
      "running time 120.393182\n",
      "\n",
      "~Running Evaluation~ \n",
      "\n",
      "TimeSinceStart : 120.39318227767944\n"
     ]
    },
    {
     "name": "stderr",
     "output_type": "stream",
     "text": [
      "Traceback (most recent call last):\n",
      "  File \"studygroups_rl/scripts/run_ac.py\", line 179, in <module>\n",
      "    main()\n",
      "  File \"studygroups_rl/scripts/run_ac.py\", line 175, in main\n",
      "    trainer.run_training_loop()\n",
      "  File \"studygroups_rl/scripts/run_ac.py\", line 78, in run_training_loop\n",
      "    self.rl_trainer.run_training_loop(\n",
      "  File \"c:\\users\\anamt\\onedrive\\documents\\berkeley\\research\\group-matching-research\\studygroups_rl\\infrastructure\\rl_trainer.py\", line 123, in run_training_loop\n",
      "    self.perform_dqn_logging(all_logs)\n",
      "  File \"c:\\users\\anamt\\onedrive\\documents\\berkeley\\research\\group-matching-research\\studygroups_rl\\infrastructure\\rl_trainer.py\", line 266, in perform_dqn_logging\n",
      "    self.logger.log_scalar(value, key, self.agent.t)\n",
      "AttributeError: 'AWACAgent' object has no attribute 't'\n"
     ]
    }
   ],
   "source": [
    "!python studygroups_rl/scripts/run_ac.py \\\n",
    "  --exp_name test_n500_gamma0.9 --n_iter=200 --discount=.9 --total_size=513 -ngpu"
   ]
  },
  {
   "cell_type": "code",
   "execution_count": 22,
   "metadata": {},
   "outputs": [
    {
     "name": "stdout",
     "output_type": "stream",
     "text": [
      "\n",
      "\n",
      "\n",
      "LOGGING TO:  C:\\Users\\anamt\\OneDrive\\Documents\\Berkeley\\research\\group-matching-research\\studygroups_rl\\scripts\\./rl_data\\test_n500_gamma0.2_studygroups_15-12-2021_05-18-55 \n",
      "\n"
     ]
    },
    {
     "name": "stderr",
     "output_type": "stream",
     "text": [
      "Traceback (most recent call last):\n",
      "  File \"studygroups_rl/scripts/run_ac.py\", line 179, in <module>\n",
      "    main()\n",
      "  File \"studygroups_rl/scripts/run_ac.py\", line 175, in main\n",
      "    trainer.run_training_loop()\n",
      "  File \"studygroups_rl/scripts/run_ac.py\", line 78, in run_training_loop\n",
      "    self.rl_trainer.run_training_loop(\n",
      "  File \"c:\\users\\anamt\\onedrive\\documents\\berkeley\\research\\group-matching-research\\studygroups_rl\\infrastructure\\rl_trainer.py\", line 123, in run_training_loop\n",
      "    self.perform_dqn_logging(all_logs)\n",
      "  File \"c:\\users\\anamt\\onedrive\\documents\\berkeley\\research\\group-matching-research\\studygroups_rl\\infrastructure\\rl_trainer.py\", line 266, in perform_dqn_logging\n",
      "    self.logger.log_scalar(value, key, self.agent.t)\n",
      "AttributeError: 'AWACAgent' object has no attribute 't'\n"
     ]
    },
    {
     "name": "stdout",
     "output_type": "stream",
     "text": [
      "\n",
      "\n",
      "########################\n",
      "logging outputs to  C:\\Users\\anamt\\OneDrive\\Documents\\Berkeley\\research\\group-matching-research\\studygroups_rl\\scripts\\./rl_data\\test_n500_gamma0.2_studygroups_15-12-2021_05-18-55\n",
      "########################\n",
      "GPU not detected. Defaulting to CPU.\n",
      "\n",
      "\n",
      "********** Iteration 0 ************\n",
      "\n",
      "Training agent...\n",
      "\n",
      "Beginning logging procedure...\n",
      "running time 121.234376\n",
      "\n",
      "~Running Evaluation~ \n",
      "\n",
      "TimeSinceStart : 121.23437595367432\n"
     ]
    }
   ],
   "source": [
    "!python studygroups_rl/scripts/run_ac.py \\\n",
    "  --exp_name test_n500_gamma0.2 --n_iter=200 --discount=.2 --total_size=513 -ngpu"
   ]
  },
  {
   "cell_type": "code",
   "execution_count": null,
   "metadata": {},
   "outputs": [],
   "source": []
  }
 ],
 "metadata": {
  "accelerator": "GPU",
  "colab": {
   "collapsed_sections": [],
   "name": "run_hw5_expl.ipynb",
   "provenance": []
  },
  "kernelspec": {
   "display_name": "Python 3",
   "language": "python",
   "name": "python3"
  },
  "language_info": {
   "codemirror_mode": {
    "name": "ipython",
    "version": 3
   },
   "file_extension": ".py",
   "mimetype": "text/x-python",
   "name": "python",
   "nbconvert_exporter": "python",
   "pygments_lexer": "ipython3",
   "version": "3.8.3"
  }
 },
 "nbformat": 4,
 "nbformat_minor": 1
}
